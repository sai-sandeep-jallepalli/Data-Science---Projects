{
 "cells": [
  {
   "cell_type": "markdown",
   "metadata": {},
   "source": [
    "# Importing Libraries"
   ]
  },
  {
   "cell_type": "code",
   "execution_count": 1,
   "metadata": {
    "_cell_guid": "b1076dfc-b9ad-4769-8c92-a6c4dae69d19",
    "_uuid": "8f2839f25d086af736a60e9eeb907d3b93b6e0e5"
   },
   "outputs": [],
   "source": [
    "# importing libraries\n",
    "\n",
    "import numpy as np\n",
    "import pandas as pd\n",
    "import matplotlib.pyplot as plt\n",
    "import seaborn as sns\n",
    "\n",
    "import warnings\n",
    "warnings.simplefilter(action='ignore', category=FutureWarning)"
   ]
  },
  {
   "cell_type": "markdown",
   "metadata": {},
   "source": [
    "# Reading Dataset"
   ]
  },
  {
   "cell_type": "code",
   "execution_count": 33,
   "metadata": {
    "execution": {
     "iopub.execute_input": "2025-03-24T14:44:54.279799Z",
     "iopub.status.busy": "2025-03-24T14:44:54.279482Z",
     "iopub.status.idle": "2025-03-24T14:44:54.466513Z",
     "shell.execute_reply": "2025-03-24T14:44:54.465340Z",
     "shell.execute_reply.started": "2025-03-24T14:44:54.279770Z"
    }
   },
   "outputs": [],
   "source": [
    "# Creating dataframe\n",
    "\n",
    "df = pd.read_csv(\"Yelp Restaurant Reviews.csv\")"
   ]
  },
  {
   "cell_type": "markdown",
   "metadata": {},
   "source": [
    "# Basic Analysis"
   ]
  },
  {
   "cell_type": "code",
   "execution_count": 34,
   "metadata": {
    "execution": {
     "iopub.execute_input": "2025-03-24T14:44:54.468806Z",
     "iopub.status.busy": "2025-03-24T14:44:54.468429Z",
     "iopub.status.idle": "2025-03-24T14:44:54.485171Z",
     "shell.execute_reply": "2025-03-24T14:44:54.483976Z",
     "shell.execute_reply.started": "2025-03-24T14:44:54.468762Z"
    }
   },
   "outputs": [
    {
     "data": {
      "text/html": [
       "<div>\n",
       "<style scoped>\n",
       "    .dataframe tbody tr th:only-of-type {\n",
       "        vertical-align: middle;\n",
       "    }\n",
       "\n",
       "    .dataframe tbody tr th {\n",
       "        vertical-align: top;\n",
       "    }\n",
       "\n",
       "    .dataframe thead th {\n",
       "        text-align: right;\n",
       "    }\n",
       "</style>\n",
       "<table border=\"1\" class=\"dataframe\">\n",
       "  <thead>\n",
       "    <tr style=\"text-align: right;\">\n",
       "      <th></th>\n",
       "      <th>Yelp URL</th>\n",
       "      <th>Rating</th>\n",
       "      <th>Date</th>\n",
       "      <th>Review Text</th>\n",
       "    </tr>\n",
       "  </thead>\n",
       "  <tbody>\n",
       "    <tr>\n",
       "      <th>0</th>\n",
       "      <td>https://www.yelp.com/biz/sidney-dairy-barn-sidney</td>\n",
       "      <td>5</td>\n",
       "      <td>1/22/2022</td>\n",
       "      <td>All I can say is they have very good ice cream...</td>\n",
       "    </tr>\n",
       "    <tr>\n",
       "      <th>1</th>\n",
       "      <td>https://www.yelp.com/biz/sidney-dairy-barn-sidney</td>\n",
       "      <td>4</td>\n",
       "      <td>6/26/2022</td>\n",
       "      <td>Nice little local place for ice cream.My favor...</td>\n",
       "    </tr>\n",
       "    <tr>\n",
       "      <th>2</th>\n",
       "      <td>https://www.yelp.com/biz/sidney-dairy-barn-sidney</td>\n",
       "      <td>5</td>\n",
       "      <td>8/7/2021</td>\n",
       "      <td>A delicious treat on a hot day! Staff was very...</td>\n",
       "    </tr>\n",
       "    <tr>\n",
       "      <th>3</th>\n",
       "      <td>https://www.yelp.com/biz/sidney-dairy-barn-sidney</td>\n",
       "      <td>4</td>\n",
       "      <td>7/28/2016</td>\n",
       "      <td>This was great service and a fun crew! I got t...</td>\n",
       "    </tr>\n",
       "    <tr>\n",
       "      <th>4</th>\n",
       "      <td>https://www.yelp.com/biz/sidney-dairy-barn-sidney</td>\n",
       "      <td>5</td>\n",
       "      <td>6/23/2015</td>\n",
       "      <td>This is one of my favorite places to get ice c...</td>\n",
       "    </tr>\n",
       "  </tbody>\n",
       "</table>\n",
       "</div>"
      ],
      "text/plain": [
       "                                            Yelp URL  Rating       Date  \\\n",
       "0  https://www.yelp.com/biz/sidney-dairy-barn-sidney       5  1/22/2022   \n",
       "1  https://www.yelp.com/biz/sidney-dairy-barn-sidney       4  6/26/2022   \n",
       "2  https://www.yelp.com/biz/sidney-dairy-barn-sidney       5   8/7/2021   \n",
       "3  https://www.yelp.com/biz/sidney-dairy-barn-sidney       4  7/28/2016   \n",
       "4  https://www.yelp.com/biz/sidney-dairy-barn-sidney       5  6/23/2015   \n",
       "\n",
       "                                         Review Text  \n",
       "0  All I can say is they have very good ice cream...  \n",
       "1  Nice little local place for ice cream.My favor...  \n",
       "2  A delicious treat on a hot day! Staff was very...  \n",
       "3  This was great service and a fun crew! I got t...  \n",
       "4  This is one of my favorite places to get ice c...  "
      ]
     },
     "execution_count": 34,
     "metadata": {},
     "output_type": "execute_result"
    }
   ],
   "source": [
    "# First 5 rows in the Dataset\n",
    "\n",
    "df.head()"
   ]
  },
  {
   "cell_type": "code",
   "execution_count": 35,
   "metadata": {
    "execution": {
     "iopub.execute_input": "2025-03-24T14:44:54.486908Z",
     "iopub.status.busy": "2025-03-24T14:44:54.486551Z",
     "iopub.status.idle": "2025-03-24T14:44:54.500116Z",
     "shell.execute_reply": "2025-03-24T14:44:54.498941Z",
     "shell.execute_reply.started": "2025-03-24T14:44:54.486878Z"
    }
   },
   "outputs": [
    {
     "data": {
      "text/plain": [
       "(19896, 4)"
      ]
     },
     "execution_count": 35,
     "metadata": {},
     "output_type": "execute_result"
    }
   ],
   "source": [
    "# Shape of the Dataframe\n",
    "\n",
    "df.shape"
   ]
  },
  {
   "cell_type": "code",
   "execution_count": 36,
   "metadata": {
    "execution": {
     "iopub.execute_input": "2025-03-24T14:44:54.501644Z",
     "iopub.status.busy": "2025-03-24T14:44:54.501226Z",
     "iopub.status.idle": "2025-03-24T14:44:54.541081Z",
     "shell.execute_reply": "2025-03-24T14:44:54.539823Z",
     "shell.execute_reply.started": "2025-03-24T14:44:54.501604Z"
    }
   },
   "outputs": [
    {
     "name": "stdout",
     "output_type": "stream",
     "text": [
      "<class 'pandas.core.frame.DataFrame'>\n",
      "RangeIndex: 19896 entries, 0 to 19895\n",
      "Data columns (total 4 columns):\n",
      " #   Column       Non-Null Count  Dtype \n",
      "---  ------       --------------  ----- \n",
      " 0   Yelp URL     19896 non-null  object\n",
      " 1   Rating       19896 non-null  int64 \n",
      " 2   Date         19896 non-null  object\n",
      " 3   Review Text  19896 non-null  object\n",
      "dtypes: int64(1), object(3)\n",
      "memory usage: 621.9+ KB\n"
     ]
    }
   ],
   "source": [
    "# Information about the Dataframe\n",
    "\n",
    "df.info()"
   ]
  },
  {
   "cell_type": "code",
   "execution_count": 37,
   "metadata": {
    "execution": {
     "iopub.execute_input": "2025-03-24T14:44:54.542601Z",
     "iopub.status.busy": "2025-03-24T14:44:54.542193Z",
     "iopub.status.idle": "2025-03-24T14:44:54.567960Z",
     "shell.execute_reply": "2025-03-24T14:44:54.566743Z",
     "shell.execute_reply.started": "2025-03-24T14:44:54.542554Z"
    }
   },
   "outputs": [
    {
     "data": {
      "text/plain": [
       "Yelp URL       0\n",
       "Rating         0\n",
       "Date           0\n",
       "Review Text    0\n",
       "dtype: int64"
      ]
     },
     "execution_count": 37,
     "metadata": {},
     "output_type": "execute_result"
    }
   ],
   "source": [
    "# Checking for Null Values\n",
    "\n",
    "df.isna().sum()"
   ]
  },
  {
   "cell_type": "code",
   "execution_count": 38,
   "metadata": {
    "execution": {
     "iopub.execute_input": "2025-03-24T14:44:54.570968Z",
     "iopub.status.busy": "2025-03-24T14:44:54.570594Z",
     "iopub.status.idle": "2025-03-24T14:44:54.632978Z",
     "shell.execute_reply": "2025-03-24T14:44:54.631745Z",
     "shell.execute_reply.started": "2025-03-24T14:44:54.570936Z"
    }
   },
   "outputs": [
    {
     "data": {
      "text/plain": [
       "0"
      ]
     },
     "execution_count": 38,
     "metadata": {},
     "output_type": "execute_result"
    }
   ],
   "source": [
    "# Checking for Duplicated Values\n",
    "\n",
    "df.duplicated().sum()"
   ]
  },
  {
   "cell_type": "code",
   "execution_count": 39,
   "metadata": {
    "execution": {
     "iopub.execute_input": "2025-03-24T14:44:54.635138Z",
     "iopub.status.busy": "2025-03-24T14:44:54.634857Z",
     "iopub.status.idle": "2025-03-24T14:44:54.643085Z",
     "shell.execute_reply": "2025-03-24T14:44:54.642246Z",
     "shell.execute_reply.started": "2025-03-24T14:44:54.635114Z"
    }
   },
   "outputs": [
    {
     "data": {
      "text/plain": [
       "Rating\n",
       "5    10883\n",
       "4     4447\n",
       "3     2069\n",
       "2     1280\n",
       "1     1217\n",
       "Name: count, dtype: int64"
      ]
     },
     "execution_count": 39,
     "metadata": {},
     "output_type": "execute_result"
    }
   ],
   "source": [
    "# Occurence of Each Rating\n",
    "\n",
    "df['Rating'].value_counts()"
   ]
  },
  {
   "cell_type": "markdown",
   "metadata": {},
   "source": [
    "# Feature Engineering"
   ]
  },
  {
   "cell_type": "code",
   "execution_count": 40,
   "metadata": {
    "execution": {
     "iopub.execute_input": "2025-03-24T14:44:54.644452Z",
     "iopub.status.busy": "2025-03-24T14:44:54.644105Z",
     "iopub.status.idle": "2025-03-24T14:44:54.665232Z",
     "shell.execute_reply": "2025-03-24T14:44:54.664170Z",
     "shell.execute_reply.started": "2025-03-24T14:44:54.644426Z"
    }
   },
   "outputs": [],
   "source": [
    "# Creating 'Liked' column if 'Rating' >= 4, Value is 1 else 0\n",
    "\n",
    "df['Liked'] = np.where(df['Rating'].isin([4,5]),1,0 )"
   ]
  },
  {
   "cell_type": "code",
   "execution_count": 41,
   "metadata": {
    "execution": {
     "iopub.execute_input": "2025-03-24T14:44:54.666687Z",
     "iopub.status.busy": "2025-03-24T14:44:54.666364Z",
     "iopub.status.idle": "2025-03-24T14:44:54.683436Z",
     "shell.execute_reply": "2025-03-24T14:44:54.682306Z",
     "shell.execute_reply.started": "2025-03-24T14:44:54.666659Z"
    }
   },
   "outputs": [],
   "source": [
    "# Renaming 'Review Text' column\n",
    "\n",
    "df['Review'] = df['Review Text']"
   ]
  },
  {
   "cell_type": "code",
   "execution_count": 42,
   "metadata": {
    "execution": {
     "iopub.execute_input": "2025-03-24T14:44:54.685525Z",
     "iopub.status.busy": "2025-03-24T14:44:54.685059Z",
     "iopub.status.idle": "2025-03-24T14:44:54.704711Z",
     "shell.execute_reply": "2025-03-24T14:44:54.703529Z",
     "shell.execute_reply.started": "2025-03-24T14:44:54.685482Z"
    }
   },
   "outputs": [],
   "source": [
    "# Dropping unwanted columns\n",
    "\n",
    "df = df.drop(['Yelp URL', 'Date', 'Review Text', 'Rating'], axis=1)"
   ]
  },
  {
   "cell_type": "code",
   "execution_count": 43,
   "metadata": {
    "execution": {
     "iopub.execute_input": "2025-03-24T14:44:54.706142Z",
     "iopub.status.busy": "2025-03-24T14:44:54.705805Z",
     "iopub.status.idle": "2025-03-24T14:44:54.736211Z",
     "shell.execute_reply": "2025-03-24T14:44:54.734825Z",
     "shell.execute_reply.started": "2025-03-24T14:44:54.706101Z"
    }
   },
   "outputs": [
    {
     "name": "stdout",
     "output_type": "stream",
     "text": [
      "<class 'pandas.core.frame.DataFrame'>\n",
      "RangeIndex: 19896 entries, 0 to 19895\n",
      "Data columns (total 2 columns):\n",
      " #   Column  Non-Null Count  Dtype \n",
      "---  ------  --------------  ----- \n",
      " 0   Liked   19896 non-null  int64 \n",
      " 1   Review  19896 non-null  object\n",
      "dtypes: int64(1), object(1)\n",
      "memory usage: 311.0+ KB\n"
     ]
    }
   ],
   "source": [
    "# Information about the Dataframe\n",
    "\n",
    "df.info()"
   ]
  },
  {
   "cell_type": "code",
   "execution_count": 44,
   "metadata": {
    "execution": {
     "iopub.execute_input": "2025-03-24T14:44:54.737907Z",
     "iopub.status.busy": "2025-03-24T14:44:54.737576Z",
     "iopub.status.idle": "2025-03-24T14:44:54.759945Z",
     "shell.execute_reply": "2025-03-24T14:44:54.758690Z",
     "shell.execute_reply.started": "2025-03-24T14:44:54.737873Z"
    }
   },
   "outputs": [
    {
     "data": {
      "text/plain": [
       "Liked\n",
       "1    15330\n",
       "0     4566\n",
       "Name: count, dtype: int64"
      ]
     },
     "execution_count": 44,
     "metadata": {},
     "output_type": "execute_result"
    }
   ],
   "source": [
    "# Value Counts of 'Liked' Column\n",
    "\n",
    "df['Liked'].value_counts()"
   ]
  },
  {
   "cell_type": "code",
   "execution_count": 45,
   "metadata": {
    "execution": {
     "iopub.execute_input": "2025-03-24T14:44:54.761497Z",
     "iopub.status.busy": "2025-03-24T14:44:54.761152Z",
     "iopub.status.idle": "2025-03-24T14:44:55.032679Z",
     "shell.execute_reply": "2025-03-24T14:44:55.031446Z",
     "shell.execute_reply.started": "2025-03-24T14:44:54.761465Z"
    }
   },
   "outputs": [
    {
     "data": {
      "text/plain": [
       "<Axes: xlabel='Liked', ylabel='count'>"
      ]
     },
     "execution_count": 45,
     "metadata": {},
     "output_type": "execute_result"
    },
    {
     "data": {
      "image/png": "[encoded data removed]",
      "text/plain": [
       "<Figure size 640x480 with 1 Axes>"
      ]
     },
     "metadata": {},
     "output_type": "display_data"
    }
   ],
   "source": [
    "# Countplot of 'Liked' Column\n",
    "\n",
    "sns.countplot(data=df, x='Liked', hue='Liked')"
   ]
  },
  {
   "cell_type": "code",
   "execution_count": 46,
   "metadata": {
    "execution": {
     "iopub.execute_input": "2025-03-24T14:44:55.034359Z",
     "iopub.status.busy": "2025-03-24T14:44:55.033956Z",
     "iopub.status.idle": "2025-03-24T14:44:55.058585Z",
     "shell.execute_reply": "2025-03-24T14:44:55.057342Z",
     "shell.execute_reply.started": "2025-03-24T14:44:55.034327Z"
    }
   },
   "outputs": [],
   "source": [
    "# DownSampling Dataframe\n",
    "\n",
    "from imblearn.under_sampling import RandomUnderSampler\n",
    "\n",
    "X = df.drop(columns=['Liked'])\n",
    "y = df['Liked']\n",
    "\n",
    "undersampler = RandomUnderSampler(random_state=42)\n",
    "X_resampled, y_resampled = undersampler.fit_resample(X, y)\n",
    "\n",
    "df_balanced = pd.DataFrame(X_resampled, columns=X.columns)\n",
    "df_balanced['Liked'] = y_resampled"
   ]
  },
  {
   "cell_type": "code",
   "execution_count": 47,
   "metadata": {
    "execution": {
     "iopub.execute_input": "2025-03-24T14:44:55.060063Z",
     "iopub.status.busy": "2025-03-24T14:44:55.059666Z",
     "iopub.status.idle": "2025-03-24T14:44:55.072785Z",
     "shell.execute_reply": "2025-03-24T14:44:55.071678Z",
     "shell.execute_reply.started": "2025-03-24T14:44:55.060019Z"
    }
   },
   "outputs": [
    {
     "data": {
      "text/plain": [
       "Liked\n",
       "0    4566\n",
       "1    4566\n",
       "Name: count, dtype: int64"
      ]
     },
     "execution_count": 47,
     "metadata": {},
     "output_type": "execute_result"
    }
   ],
   "source": [
    "# Value Counts of Resampled 'Liked' Column\n",
    "\n",
    "df_balanced['Liked'].value_counts()"
   ]
  },
  {
   "cell_type": "code",
   "execution_count": 48,
   "metadata": {
    "execution": {
     "iopub.execute_input": "2025-03-24T14:44:55.074426Z",
     "iopub.status.busy": "2025-03-24T14:44:55.073997Z",
     "iopub.status.idle": "2025-03-24T14:44:55.273396Z",
     "shell.execute_reply": "2025-03-24T14:44:55.272280Z",
     "shell.execute_reply.started": "2025-03-24T14:44:55.074368Z"
    }
   },
   "outputs": [
    {
     "data": {
      "text/plain": [
       "<Axes: xlabel='Liked', ylabel='count'>"
      ]
     },
     "execution_count": 48,
     "metadata": {},
     "output_type": "execute_result"
    },
    {
     "data": {
      "image/png": "[encoded data removed]",
      "text/plain": [
       "<Figure size 640x480 with 1 Axes>"
      ]
     },
     "metadata": {},
     "output_type": "display_data"
    }
   ],
   "source": [
    "# Countplot of 'Liked' Column\n",
    "\n",
    "sns.countplot(data=df_balanced, x='Liked', hue='Liked')"
   ]
  },
  {
   "cell_type": "code",
   "execution_count": 49,
   "metadata": {
    "execution": {
     "iopub.execute_input": "2025-03-24T14:44:55.274948Z",
     "iopub.status.busy": "2025-03-24T14:44:55.274510Z",
     "iopub.status.idle": "2025-03-24T14:44:55.279315Z",
     "shell.execute_reply": "2025-03-24T14:44:55.278177Z",
     "shell.execute_reply.started": "2025-03-24T14:44:55.274914Z"
    }
   },
   "outputs": [],
   "source": [
    "# Reset_index\n",
    "\n",
    "df_balanced.index = range(len(df_balanced))"
   ]
  },
  {
   "cell_type": "markdown",
   "metadata": {},
   "source": [
    "## Pre-Processing"
   ]
  },
  {
   "cell_type": "code",
   "execution_count": 50,
   "metadata": {
    "execution": {
     "iopub.execute_input": "2025-03-24T14:44:55.283661Z",
     "iopub.status.busy": "2025-03-24T14:44:55.283208Z",
     "iopub.status.idle": "2025-03-24T14:44:55.603616Z",
     "shell.execute_reply": "2025-03-24T14:44:55.602402Z",
     "shell.execute_reply.started": "2025-03-24T14:44:55.283614Z"
    }
   },
   "outputs": [
    {
     "name": "stdout",
     "output_type": "stream",
     "text": [
      "[nltk_data] Downloading package stopwords to /usr/share/nltk_data...\n",
      "[nltk_data]   Package stopwords is already up-to-date!\n"
     ]
    },
    {
     "data": {
      "text/plain": [
       "0    softserve way sweet strange splendalike aftert...\n",
       "1    went 1st time tonight ordered turtle tornado e...\n",
       "2    local dairy barn served typical traditional am...\n",
       "3    ice cream good service could improved rarely g...\n",
       "4    seeing positive reviews rewind wanted stop che...\n",
       "Name: Review, dtype: object"
      ]
     },
     "execution_count": 50,
     "metadata": {},
     "output_type": "execute_result"
    }
   ],
   "source": [
    "# Pre-Processing 'Review' Column\n",
    "\n",
    "import nltk\n",
    "from nltk.corpus import stopwords\n",
    "import re\n",
    "from textblob import TextBlob\n",
    "\n",
    "nltk.download('stopwords')\n",
    "\n",
    "stop_words = set(stopwords.words('english'))\n",
    "\n",
    "def clean_text(text):\n",
    "    text = text.lower()\n",
    "    text = re.sub(r\"[^a-z0-9\\s]\", \"\", text.lower())\n",
    "    words = text.split()\n",
    "    words = [word for word in words if word not in stop_words]\n",
    "    return \" \".join(words)\n",
    "\n",
    "df_balanced['Review'] = df_balanced['Review'].apply(clean_text)\n",
    "df_balanced['Review'] [:5]"
   ]
  },
  {
   "cell_type": "code",
   "execution_count": 51,
   "metadata": {
    "execution": {
     "iopub.execute_input": "2025-03-24T14:44:55.605855Z",
     "iopub.status.busy": "2025-03-24T14:44:55.605384Z",
     "iopub.status.idle": "2025-03-24T14:46:57.282197Z",
     "shell.execute_reply": "2025-03-24T14:46:57.281112Z",
     "shell.execute_reply.started": "2025-03-24T14:44:55.605816Z"
    }
   },
   "outputs": [
    {
     "data": {
      "text/plain": [
       "0    [softserve, way, sweet, strange, splendalike, ...\n",
       "1    [went, 1st, time, tonight, ordered, turtle, to...\n",
       "2    [local, dairy, barn, served, typical, traditio...\n",
       "3    [ice, cream, good, service, could, improved, r...\n",
       "4    [seeing, positive, reviews, rewind, wanted, st...\n",
       "Name: Review, dtype: object"
      ]
     },
     "execution_count": 51,
     "metadata": {},
     "output_type": "execute_result"
    }
   ],
   "source": [
    "# Word Tokenize\n",
    "\n",
    "import spacy\n",
    "\n",
    "nlp = spacy.load('en_core_web_sm')\n",
    "\n",
    "def word_tokenize(text):\n",
    "    doc = nlp(text)\n",
    "    return [token.text for token in doc]\n",
    "\n",
    "df_balanced['Review'] = df_balanced['Review'].apply(word_tokenize)\n",
    "\n",
    "df_balanced['Review'][:5]"
   ]
  },
  {
   "cell_type": "code",
   "execution_count": 52,
   "metadata": {
    "execution": {
     "iopub.execute_input": "2025-03-24T14:46:57.284034Z",
     "iopub.status.busy": "2025-03-24T14:46:57.283668Z",
     "iopub.status.idle": "2025-03-24T14:47:02.977022Z",
     "shell.execute_reply": "2025-03-24T14:47:02.976006Z",
     "shell.execute_reply.started": "2025-03-24T14:46:57.284002Z"
    }
   },
   "outputs": [
    {
     "data": {
      "text/plain": [
       "0    softserv way sweet strang splendalik aftertast...\n",
       "1    went 1st time tonight order turtl tornado exce...\n",
       "2    local dairi barn serv typic tradit american da...\n",
       "3    ice cream good servic could improv rare get ac...\n",
       "4    see posit review rewind want stop check store ...\n",
       "Name: Review, dtype: object"
      ]
     },
     "execution_count": 52,
     "metadata": {},
     "output_type": "execute_result"
    }
   ],
   "source": [
    "# Stemming\n",
    "\n",
    "from nltk.stem import SnowballStemmer\n",
    "\n",
    "ss = SnowballStemmer('english')\n",
    "\n",
    "def stem_words(text):\n",
    "\n",
    "    return ' '.join(ss.stem(word) for word in text)\n",
    "\n",
    "\n",
    "df_balanced['Review'] = df_balanced['Review'].apply(stem_words)\n",
    "df_balanced['Review'][:5]"
   ]
  },
  {
   "cell_type": "markdown",
   "metadata": {},
   "source": [
    "# Model Building & Evaluation"
   ]
  },
  {
   "cell_type": "code",
   "execution_count": 53,
   "metadata": {
    "execution": {
     "iopub.execute_input": "2025-03-24T14:47:02.978440Z",
     "iopub.status.busy": "2025-03-24T14:47:02.978016Z",
     "iopub.status.idle": "2025-03-24T14:47:02.984735Z",
     "shell.execute_reply": "2025-03-24T14:47:02.983470Z",
     "shell.execute_reply.started": "2025-03-24T14:47:02.978381Z"
    }
   },
   "outputs": [],
   "source": [
    "# X and y values\n",
    "\n",
    "X = df_balanced['Review']\n",
    "y = df_balanced['Liked']"
   ]
  },
  {
   "cell_type": "code",
   "execution_count": 54,
   "metadata": {
    "execution": {
     "iopub.execute_input": "2025-03-24T14:47:02.986005Z",
     "iopub.status.busy": "2025-03-24T14:47:02.985663Z",
     "iopub.status.idle": "2025-03-24T14:47:03.015732Z",
     "shell.execute_reply": "2025-03-24T14:47:03.014577Z",
     "shell.execute_reply.started": "2025-03-24T14:47:02.985977Z"
    }
   },
   "outputs": [],
   "source": [
    "# Train-Test Split\n",
    "\n",
    "from sklearn.model_selection import train_test_split\n",
    "\n",
    "X_train, X_other, y_train, y_other = train_test_split(X, y, test_size=0.30, random_state=1)\n",
    "X_val, X_test, y_val, y_test = train_test_split(X_other, y_other, test_size=0.30, random_state=1)"
   ]
  },
  {
   "cell_type": "code",
   "execution_count": 55,
   "metadata": {
    "execution": {
     "iopub.execute_input": "2025-03-24T14:47:03.017401Z",
     "iopub.status.busy": "2025-03-24T14:47:03.016990Z",
     "iopub.status.idle": "2025-03-24T14:47:04.823025Z",
     "shell.execute_reply": "2025-03-24T14:47:04.821953Z",
     "shell.execute_reply.started": "2025-03-24T14:47:03.017358Z"
    }
   },
   "outputs": [],
   "source": [
    "# Count Vectorizer\n",
    "\n",
    "from sklearn.feature_extraction.text import TfidfVectorizer\n",
    "\n",
    "tfidf = TfidfVectorizer()\n",
    "\n",
    "X_train_tfidf = tfidf.fit_transform(X_train).toarray()\n",
    "X_val_tfidf = tfidf.transform(X_val).toarray()\n",
    "X_test_tfidf = tfidf.transform(X_test).toarray()"
   ]
  },
  {
   "cell_type": "code",
   "execution_count": 56,
   "metadata": {
    "execution": {
     "iopub.execute_input": "2025-03-24T14:47:04.824214Z",
     "iopub.status.busy": "2025-03-24T14:47:04.823870Z",
     "iopub.status.idle": "2025-03-24T14:47:05.599740Z",
     "shell.execute_reply": "2025-03-24T14:47:05.598567Z",
     "shell.execute_reply.started": "2025-03-24T14:47:04.824180Z"
    }
   },
   "outputs": [],
   "source": [
    "# reduce memory usage\n",
    "\n",
    "X_train_tfidf = X_train_tfidf.astype('float16')\n",
    "X_val_tfidf = X_val_tfidf.astype('float16')\n",
    "X_test_tfidf = X_test_tfidf.astype('float16')"
   ]
  },
  {
   "cell_type": "code",
   "execution_count": 57,
   "metadata": {
    "execution": {
     "iopub.execute_input": "2025-03-24T14:47:05.601287Z",
     "iopub.status.busy": "2025-03-24T14:47:05.600890Z",
     "iopub.status.idle": "2025-03-24T14:47:05.606859Z",
     "shell.execute_reply": "2025-03-24T14:47:05.605561Z",
     "shell.execute_reply.started": "2025-03-24T14:47:05.601245Z"
    }
   },
   "outputs": [],
   "source": [
    "# Importing Libraries\n",
    "\n",
    "from sklearn.naive_bayes import MultinomialNB\n",
    "from sklearn.linear_model import LogisticRegression\n",
    "from xgboost import XGBClassifier\n",
    "from sklearn.model_selection import GridSearchCV\n",
    "\n",
    "\n",
    "from sklearn.metrics import classification_report, accuracy_score, confusion_matrix "
   ]
  },
  {
   "cell_type": "code",
   "execution_count": 82,
   "metadata": {
    "execution": {
     "iopub.execute_input": "2025-03-24T15:03:52.108109Z",
     "iopub.status.busy": "2025-03-24T15:03:52.107753Z",
     "iopub.status.idle": "2025-03-24T15:03:52.115785Z",
     "shell.execute_reply": "2025-03-24T15:03:52.114575Z",
     "shell.execute_reply.started": "2025-03-24T15:03:52.108074Z"
    }
   },
   "outputs": [],
   "source": [
    "def predict(model,param_grid):\n",
    "    grid = GridSearchCV(estimator=model, param_grid=param_grid, cv=3, n_jobs=2,verbose=0, pre_dispatch=\"2*n_jobs\")\n",
    "    grid.fit(X_train_tfidf, y_train)\n",
    "    \n",
    "    y_train_pred = grid.predict(X_train_tfidf)\n",
    "\n",
    "    y_val_pred = grid.predict(X_val_tfidf)\n",
    "\n",
    "    y_test_pred = grid.predict(X_test_tfidf)\n",
    "\n",
    "    print(\"--------------------------------------------------------\")\n",
    "    print(f\"Best Hyperparameters: {grid.best_params_}\")\n",
    "    print(\"--------------------------------------------------------\")\n",
    "    print(f\"Model Accuracy on Train Data: {accuracy_score(y_train, y_train_pred):.4f}\")\n",
    "    print(\"--------------------------------------------------------\")\n",
    "    print(f\"Model Accuracy on Val Data: {accuracy_score(y_val, y_val_pred):.4f}\")\n",
    "    print(\"--------------------------------------------------------\")\n",
    "    print(f\"Model Accuracy on Test Data: {accuracy_score(y_test, y_test_pred):.4f}\")\n",
    "    print(\"--------------------------------------------------------\")\n",
    "    print(f\"Confusion Matrix:\\n{confusion_matrix(y_test, y_test_pred)}\")\n",
    "    print(\"--------------------------------------------------------\")\n",
    "    print(f\"Classification Report:\\n{classification_report(y_test, y_test_pred)}\")"
   ]
  },
  {
   "cell_type": "code",
   "execution_count": 83,
   "metadata": {
    "execution": {
     "iopub.execute_input": "2025-03-24T15:03:52.118675Z",
     "iopub.status.busy": "2025-03-24T15:03:52.118206Z",
     "iopub.status.idle": "2025-03-24T15:03:52.138237Z",
     "shell.execute_reply": "2025-03-24T15:03:52.136898Z",
     "shell.execute_reply.started": "2025-03-24T15:03:52.118627Z"
    }
   },
   "outputs": [],
   "source": [
    "# param_grid of different models\n",
    "\n",
    "param_grid_logistic = {\n",
    "    'C': [0.001, 0.01, 0.1, 1, 10],\n",
    "    'penalty': ['l2'],\n",
    "    'solver': ['lbfgs']\n",
    "}\n",
    "\n",
    "param_grid_nb = {\n",
    "    'alpha': [0.01, 0.1, 0.5, 1, 5, 10],\n",
    "    'fit_prior': [True, False]\n",
    "}\n",
    "\n",
    "param_grid_xgb = {\n",
    "    'n_estimators': [50, 100],\n",
    "    'max_depth': [3],\n",
    "    'learning_rate': [0.05],\n",
    "}"
   ]
  },
  {
   "cell_type": "code",
   "execution_count": 84,
   "metadata": {
    "execution": {
     "iopub.execute_input": "2025-03-24T15:03:52.139955Z",
     "iopub.status.busy": "2025-03-24T15:03:52.139585Z",
     "iopub.status.idle": "2025-03-24T15:04:16.832763Z",
     "shell.execute_reply": "2025-03-24T15:04:16.831345Z",
     "shell.execute_reply.started": "2025-03-24T15:03:52.139921Z"
    }
   },
   "outputs": [
    {
     "name": "stdout",
     "output_type": "stream",
     "text": [
      "--------------------------------------------------------\n",
      "Best Hyperparameters: {'alpha': 0.5, 'fit_prior': True}\n",
      "--------------------------------------------------------\n",
      "Model Accuracy on Train Data: 0.9125\n",
      "--------------------------------------------------------\n",
      "Model Accuracy on Val Data: 0.8389\n",
      "--------------------------------------------------------\n",
      "Model Accuracy on Test Data: 0.8467\n",
      "--------------------------------------------------------\n",
      "Confusion Matrix:\n",
      "[[351  67]\n",
      " [ 59 345]]\n",
      "--------------------------------------------------------\n",
      "Classification Report:\n",
      "              precision    recall  f1-score   support\n",
      "\n",
      "           0       0.86      0.84      0.85       418\n",
      "           1       0.84      0.85      0.85       404\n",
      "\n",
      "    accuracy                           0.85       822\n",
      "   macro avg       0.85      0.85      0.85       822\n",
      "weighted avg       0.85      0.85      0.85       822\n",
      "\n"
     ]
    }
   ],
   "source": [
    "# MultinomialNB\n",
    "\n",
    "predict(MultinomialNB(), param_grid_nb)"
   ]
  },
  {
   "cell_type": "code",
   "execution_count": 85,
   "metadata": {
    "execution": {
     "iopub.execute_input": "2025-03-24T15:04:16.834696Z",
     "iopub.status.busy": "2025-03-24T15:04:16.834295Z",
     "iopub.status.idle": "2025-03-24T15:04:41.626770Z",
     "shell.execute_reply": "2025-03-24T15:04:41.624976Z",
     "shell.execute_reply.started": "2025-03-24T15:04:16.834644Z"
    }
   },
   "outputs": [
    {
     "name": "stdout",
     "output_type": "stream",
     "text": [
      "--------------------------------------------------------\n",
      "Best Hyperparameters: {'C': 1, 'penalty': 'l2', 'solver': 'lbfgs'}\n",
      "--------------------------------------------------------\n",
      "Model Accuracy on Train Data: 0.9180\n",
      "--------------------------------------------------------\n",
      "Model Accuracy on Val Data: 0.8691\n",
      "--------------------------------------------------------\n",
      "Model Accuracy on Test Data: 0.8637\n",
      "--------------------------------------------------------\n",
      "Confusion Matrix:\n",
      "[[357  61]\n",
      " [ 51 353]]\n",
      "--------------------------------------------------------\n",
      "Classification Report:\n",
      "              precision    recall  f1-score   support\n",
      "\n",
      "           0       0.88      0.85      0.86       418\n",
      "           1       0.85      0.87      0.86       404\n",
      "\n",
      "    accuracy                           0.86       822\n",
      "   macro avg       0.86      0.86      0.86       822\n",
      "weighted avg       0.86      0.86      0.86       822\n",
      "\n"
     ]
    }
   ],
   "source": [
    "# LogisticRegression\n",
    "\n",
    "predict(LogisticRegression(), param_grid_logistic)"
   ]
  },
  {
   "cell_type": "code",
   "execution_count": 86,
   "metadata": {
    "execution": {
     "iopub.execute_input": "2025-03-24T15:04:41.628834Z",
     "iopub.status.busy": "2025-03-24T15:04:41.628185Z",
     "iopub.status.idle": "2025-03-24T15:06:20.377165Z",
     "shell.execute_reply": "2025-03-24T15:06:20.376080Z",
     "shell.execute_reply.started": "2025-03-24T15:04:41.628789Z"
    }
   },
   "outputs": [
    {
     "name": "stderr",
     "output_type": "stream",
     "text": [
      "/usr/local/lib/python3.10/dist-packages/joblib/externals/loky/process_executor.py:752: UserWarning: A worker stopped while some jobs were given to the executor. This can be caused by a too short worker timeout or by a memory leak.\n",
      "  warnings.warn(\n"
     ]
    },
    {
     "name": "stdout",
     "output_type": "stream",
     "text": [
      "--------------------------------------------------------\n",
      "Best Hyperparameters: {'learning_rate': 0.05, 'max_depth': 3, 'n_estimators': 100}\n",
      "--------------------------------------------------------\n",
      "Model Accuracy on Train Data: 0.8262\n",
      "--------------------------------------------------------\n",
      "Model Accuracy on Val Data: 0.7972\n",
      "--------------------------------------------------------\n",
      "Model Accuracy on Test Data: 0.7871\n",
      "--------------------------------------------------------\n",
      "Confusion Matrix:\n",
      "[[336  82]\n",
      " [ 93 311]]\n",
      "--------------------------------------------------------\n",
      "Classification Report:\n",
      "              precision    recall  f1-score   support\n",
      "\n",
      "           0       0.78      0.80      0.79       418\n",
      "           1       0.79      0.77      0.78       404\n",
      "\n",
      "    accuracy                           0.79       822\n",
      "   macro avg       0.79      0.79      0.79       822\n",
      "weighted avg       0.79      0.79      0.79       822\n",
      "\n"
     ]
    }
   ],
   "source": [
    "# XGBClassifier\n",
    "\n",
    "predict(XGBClassifier(), param_grid_xgb)"
   ]
  },
  {
   "cell_type": "markdown",
   "metadata": {},
   "source": [
    "## Conclusion"
   ]
  },
  {
   "cell_type": "markdown",
   "metadata": {},
   "source": [
    "***Logistic Regression is the best choice since it has the highest test accuracy, generalizes well, and does not overfit.***"
   ]
  }
 ],
 "metadata": {
  "kaggle": {
   "accelerator": "none",
   "dataSources": [
    {
     "datasetId": 2774728,
     "sourceId": 4792797,
     "sourceType": "datasetVersion"
    }
   ],
   "dockerImageVersionId": 30918,
   "isGpuEnabled": false,
   "isInternetEnabled": true,
   "language": "python",
   "sourceType": "notebook"
  },
  "kernelspec": {
   "display_name": "Python 3 (ipykernel)",
   "language": "python",
   "name": "python3"
  },
  "language_info": {
   "codemirror_mode": {
    "name": "ipython",
    "version": 3
   },
   "file_extension": ".py",
   "mimetype": "text/x-python",
   "name": "python",
   "nbconvert_exporter": "python",
   "pygments_lexer": "ipython3",
   "version": "3.12.5"
  }
 },
 "nbformat": 4,
 "nbformat_minor": 4
}
