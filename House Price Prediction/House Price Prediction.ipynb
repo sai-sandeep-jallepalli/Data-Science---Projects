{
 "cells": [
  {
   "cell_type": "markdown",
   "metadata": {},
   "source": [
    "# Import Libraries"
   ]
  },
  {
   "cell_type": "code",
   "execution_count": null,
   "metadata": {
    "execution": {
     "iopub.execute_input": "2025-03-24T13:29:19.537636Z",
     "iopub.status.busy": "2025-03-24T13:29:19.537185Z",
     "iopub.status.idle": "2025-03-24T13:29:19.554715Z",
     "shell.execute_reply": "2025-03-24T13:29:19.553638Z",
     "shell.execute_reply.started": "2025-03-24T13:29:19.537595Z"
    }
   },
   "outputs": [],
   "source": [
    "# Importing Necessary Libraries\n",
    "\n",
    "import numpy as np\n",
    "import pandas as pd\n",
    "import matplotlib.pyplot as plt\n",
    "import seaborn as sns\n",
    "\n",
    "import warnings\n",
    "warnings.simplefilter(action='ignore', category=FutureWarning)"
   ]
  },
  {
   "cell_type": "markdown",
   "metadata": {},
   "source": [
    "# Dataset Information"
   ]
  },
  {
   "cell_type": "code",
   "execution_count": null,
   "metadata": {
    "execution": {
     "iopub.execute_input": "2025-03-24T13:29:19.556529Z",
     "iopub.status.busy": "2025-03-24T13:29:19.556171Z",
     "iopub.status.idle": "2025-03-24T13:29:19.622690Z",
     "shell.execute_reply": "2025-03-24T13:29:19.621528Z",
     "shell.execute_reply.started": "2025-03-24T13:29:19.556488Z"
    }
   },
   "outputs": [],
   "source": [
    "# Read the CSV File\n",
    "\n",
    "df = pd.read_csv('kc_house_data.csv')"
   ]
  },
  {
   "cell_type": "code",
   "execution_count": null,
   "metadata": {
    "execution": {
     "iopub.execute_input": "2025-03-24T13:29:19.624571Z",
     "iopub.status.busy": "2025-03-24T13:29:19.624142Z",
     "iopub.status.idle": "2025-03-24T13:29:19.646746Z",
     "shell.execute_reply": "2025-03-24T13:29:19.645619Z",
     "shell.execute_reply.started": "2025-03-24T13:29:19.624530Z"
    }
   },
   "outputs": [],
   "source": [
    "# First 5 rows in the dataframe\n",
    "\n",
    "df.head()"
   ]
  },
  {
   "cell_type": "code",
   "execution_count": null,
   "metadata": {
    "execution": {
     "iopub.execute_input": "2025-03-24T13:29:19.648900Z",
     "iopub.status.busy": "2025-03-24T13:29:19.648579Z",
     "iopub.status.idle": "2025-03-24T13:29:19.703035Z",
     "shell.execute_reply": "2025-03-24T13:29:19.701965Z",
     "shell.execute_reply.started": "2025-03-24T13:29:19.648872Z"
    }
   },
   "outputs": [],
   "source": [
    "# Correlation between columns\n",
    "\n",
    "df.corr(numeric_only=True)['price']"
   ]
  },
  {
   "cell_type": "code",
   "execution_count": null,
   "metadata": {
    "execution": {
     "iopub.execute_input": "2025-03-24T13:29:19.704680Z",
     "iopub.status.busy": "2025-03-24T13:29:19.704404Z",
     "iopub.status.idle": "2025-03-24T13:29:19.710962Z",
     "shell.execute_reply": "2025-03-24T13:29:19.709854Z",
     "shell.execute_reply.started": "2025-03-24T13:29:19.704655Z"
    }
   },
   "outputs": [],
   "source": [
    "# Dataframe shape\n",
    "\n",
    "df.shape"
   ]
  },
  {
   "cell_type": "code",
   "execution_count": null,
   "metadata": {
    "execution": {
     "iopub.execute_input": "2025-03-24T13:29:19.712772Z",
     "iopub.status.busy": "2025-03-24T13:29:19.712380Z",
     "iopub.status.idle": "2025-03-24T13:29:19.740291Z",
     "shell.execute_reply": "2025-03-24T13:29:19.739043Z",
     "shell.execute_reply.started": "2025-03-24T13:29:19.712726Z"
    }
   },
   "outputs": [],
   "source": [
    "# General Information of the Dataframe\n",
    "\n",
    "df.info()"
   ]
  },
  {
   "cell_type": "code",
   "execution_count": null,
   "metadata": {
    "execution": {
     "iopub.execute_input": "2025-03-24T13:29:19.741747Z",
     "iopub.status.busy": "2025-03-24T13:29:19.741446Z",
     "iopub.status.idle": "2025-03-24T13:29:19.816558Z",
     "shell.execute_reply": "2025-03-24T13:29:19.815231Z",
     "shell.execute_reply.started": "2025-03-24T13:29:19.741721Z"
    }
   },
   "outputs": [],
   "source": [
    "# Statistical Information about the Dataframe\n",
    "\n",
    "df.describe().transpose()"
   ]
  },
  {
   "cell_type": "code",
   "execution_count": null,
   "metadata": {
    "execution": {
     "iopub.execute_input": "2025-03-24T13:29:19.819086Z",
     "iopub.status.busy": "2025-03-24T13:29:19.818781Z",
     "iopub.status.idle": "2025-03-24T13:29:19.830915Z",
     "shell.execute_reply": "2025-03-24T13:29:19.829650Z",
     "shell.execute_reply.started": "2025-03-24T13:29:19.819059Z"
    }
   },
   "outputs": [],
   "source": [
    "# Checking for Null values\n",
    "\n",
    "df.isna().sum()"
   ]
  },
  {
   "cell_type": "code",
   "execution_count": null,
   "metadata": {
    "execution": {
     "iopub.execute_input": "2025-03-24T13:29:19.832484Z",
     "iopub.status.busy": "2025-03-24T13:29:19.832155Z",
     "iopub.status.idle": "2025-03-24T13:29:19.848100Z",
     "shell.execute_reply": "2025-03-24T13:29:19.846474Z",
     "shell.execute_reply.started": "2025-03-24T13:29:19.832457Z"
    }
   },
   "outputs": [],
   "source": [
    "# Column names in the Dataframe\n",
    "\n",
    "df.columns"
   ]
  },
  {
   "cell_type": "markdown",
   "metadata": {},
   "source": [
    "# EDA"
   ]
  },
  {
   "cell_type": "markdown",
   "metadata": {},
   "source": [
    "## Univariate Analysis (Single Feature)"
   ]
  },
  {
   "cell_type": "code",
   "execution_count": null,
   "metadata": {
    "execution": {
     "iopub.execute_input": "2025-03-24T13:29:19.849680Z",
     "iopub.status.busy": "2025-03-24T13:29:19.849294Z",
     "iopub.status.idle": "2025-03-24T13:29:20.232592Z",
     "shell.execute_reply": "2025-03-24T13:29:20.231224Z",
     "shell.execute_reply.started": "2025-03-24T13:29:19.849651Z"
    }
   },
   "outputs": [],
   "source": [
    "# Histogram of 'price'\n",
    "\n",
    "sns.histplot(df['price'], bins=50, kde=True)\n",
    "plt.show()"
   ]
  },
  {
   "cell_type": "code",
   "execution_count": null,
   "metadata": {
    "execution": {
     "iopub.execute_input": "2025-03-24T13:29:20.234063Z",
     "iopub.status.busy": "2025-03-24T13:29:20.233673Z",
     "iopub.status.idle": "2025-03-24T13:29:20.813102Z",
     "shell.execute_reply": "2025-03-24T13:29:20.812112Z",
     "shell.execute_reply.started": "2025-03-24T13:29:20.234029Z"
    }
   },
   "outputs": [],
   "source": [
    "# Histogram for 'sqft_living'\n",
    "\n",
    "sns.histplot(df['sqft_living'], bins=50, kde=True)\n",
    "plt.show()"
   ]
  },
  {
   "cell_type": "code",
   "execution_count": null,
   "metadata": {
    "execution": {
     "iopub.execute_input": "2025-03-24T13:29:20.815375Z",
     "iopub.status.busy": "2025-03-24T13:29:20.815074Z",
     "iopub.status.idle": "2025-03-24T13:29:21.100741Z",
     "shell.execute_reply": "2025-03-24T13:29:21.099328Z",
     "shell.execute_reply.started": "2025-03-24T13:29:20.815331Z"
    }
   },
   "outputs": [],
   "source": [
    "# Boxplot of 'grade' vs 'price'\n",
    "\n",
    "sns.boxplot(x=df['grade'], y=df['price'])\n",
    "plt.show();"
   ]
  },
  {
   "cell_type": "code",
   "execution_count": null,
   "metadata": {
    "execution": {
     "iopub.execute_input": "2025-03-24T13:29:21.102766Z",
     "iopub.status.busy": "2025-03-24T13:29:21.102426Z",
     "iopub.status.idle": "2025-03-24T13:29:21.290979Z",
     "shell.execute_reply": "2025-03-24T13:29:21.289783Z",
     "shell.execute_reply.started": "2025-03-24T13:29:21.102738Z"
    }
   },
   "outputs": [],
   "source": [
    "# Countplot on 'bedrooms'\n",
    "\n",
    "sns.countplot(data=df, x='bedrooms')\n",
    "plt.show()"
   ]
  },
  {
   "cell_type": "code",
   "execution_count": null,
   "metadata": {
    "execution": {
     "iopub.execute_input": "2025-03-24T13:29:21.292543Z",
     "iopub.status.busy": "2025-03-24T13:29:21.292099Z",
     "iopub.status.idle": "2025-03-24T13:29:21.606808Z",
     "shell.execute_reply": "2025-03-24T13:29:21.605698Z",
     "shell.execute_reply.started": "2025-03-24T13:29:21.292507Z"
    }
   },
   "outputs": [],
   "source": [
    "# Countplot on 'bathrooms'\n",
    "\n",
    "sns.countplot(data=df, x='bathrooms')\n",
    "plt.xticks(rotation=90)\n",
    "plt.show()"
   ]
  },
  {
   "cell_type": "code",
   "execution_count": null,
   "metadata": {
    "execution": {
     "iopub.execute_input": "2025-03-24T13:29:21.608234Z",
     "iopub.status.busy": "2025-03-24T13:29:21.607876Z",
     "iopub.status.idle": "2025-03-24T13:29:21.759101Z",
     "shell.execute_reply": "2025-03-24T13:29:21.758078Z",
     "shell.execute_reply.started": "2025-03-24T13:29:21.608207Z"
    }
   },
   "outputs": [],
   "source": [
    "# Countplot of 'floors'\n",
    "\n",
    "sns.countplot(x=df['floors'])\n",
    "plt.show()"
   ]
  },
  {
   "cell_type": "markdown",
   "metadata": {},
   "source": [
    "## Bivariate Analysis (Feature Relationships)"
   ]
  },
  {
   "cell_type": "code",
   "execution_count": null,
   "metadata": {
    "execution": {
     "iopub.execute_input": "2025-03-24T13:29:21.760541Z",
     "iopub.status.busy": "2025-03-24T13:29:21.760157Z",
     "iopub.status.idle": "2025-03-24T13:29:22.006269Z",
     "shell.execute_reply": "2025-03-24T13:29:22.005196Z",
     "shell.execute_reply.started": "2025-03-24T13:29:21.760512Z"
    }
   },
   "outputs": [],
   "source": [
    "# Scatterplot on 'price' vs 'bathrooms'\n",
    "\n",
    "sns.scatterplot(data=df, x='sqft_living', y='price')\n",
    "plt.show();"
   ]
  },
  {
   "cell_type": "code",
   "execution_count": null,
   "metadata": {
    "execution": {
     "iopub.execute_input": "2025-03-24T13:29:22.007608Z",
     "iopub.status.busy": "2025-03-24T13:29:22.007292Z",
     "iopub.status.idle": "2025-03-24T13:29:22.245005Z",
     "shell.execute_reply": "2025-03-24T13:29:22.243863Z",
     "shell.execute_reply.started": "2025-03-24T13:29:22.007582Z"
    }
   },
   "outputs": [],
   "source": [
    "# Scatterplot on 'price' vs 'bathrooms'\n",
    "\n",
    "sns.scatterplot(data=df, x='sqft_above', y='price')\n",
    "plt.show();"
   ]
  },
  {
   "cell_type": "code",
   "execution_count": null,
   "metadata": {
    "execution": {
     "iopub.execute_input": "2025-03-24T13:29:22.248287Z",
     "iopub.status.busy": "2025-03-24T13:29:22.247973Z",
     "iopub.status.idle": "2025-03-24T13:29:22.403112Z",
     "shell.execute_reply": "2025-03-24T13:29:22.401963Z",
     "shell.execute_reply.started": "2025-03-24T13:29:22.248261Z"
    }
   },
   "outputs": [],
   "source": [
    "# Boxplot 'waterfront' vs 'price'\n",
    "\n",
    "sns.boxplot(x=df['waterfront'], y=df['price'])\n",
    "plt.show()"
   ]
  },
  {
   "cell_type": "code",
   "execution_count": null,
   "metadata": {
    "execution": {
     "iopub.execute_input": "2025-03-24T13:29:22.406211Z",
     "iopub.status.busy": "2025-03-24T13:29:22.405906Z",
     "iopub.status.idle": "2025-03-24T13:29:23.769115Z",
     "shell.execute_reply": "2025-03-24T13:29:23.767827Z",
     "shell.execute_reply.started": "2025-03-24T13:29:22.406187Z"
    }
   },
   "outputs": [],
   "source": [
    "# Correlation Heatmap\n",
    "\n",
    "plt.figure(figsize=(12,6))\n",
    "sns.heatmap(df.corr(numeric_only=True), annot=True, cmap=\"coolwarm\", fmt=\".2f\")\n",
    "plt.show()"
   ]
  },
  {
   "cell_type": "markdown",
   "metadata": {},
   "source": [
    "# Feature Engineering"
   ]
  },
  {
   "cell_type": "code",
   "execution_count": null,
   "metadata": {
    "execution": {
     "iopub.execute_input": "2025-03-24T13:29:23.770227Z",
     "iopub.status.busy": "2025-03-24T13:29:23.769960Z",
     "iopub.status.idle": "2025-03-24T13:29:23.779720Z",
     "shell.execute_reply": "2025-03-24T13:29:23.778347Z",
     "shell.execute_reply.started": "2025-03-24T13:29:23.770204Z"
    }
   },
   "outputs": [],
   "source": [
    "# Dropping outlier row\n",
    "\n",
    "df = df.drop(df[(df['sqft_living']>13000)].index, axis=0)"
   ]
  },
  {
   "cell_type": "code",
   "execution_count": null,
   "metadata": {
    "execution": {
     "iopub.execute_input": "2025-03-24T13:29:23.781495Z",
     "iopub.status.busy": "2025-03-24T13:29:23.781078Z",
     "iopub.status.idle": "2025-03-24T13:29:23.797016Z",
     "shell.execute_reply": "2025-03-24T13:29:23.795754Z",
     "shell.execute_reply.started": "2025-03-24T13:29:23.781447Z"
    }
   },
   "outputs": [],
   "source": [
    "# Replacing Null Value with 'median'\n",
    "\n",
    "df['sqft_above'] = df['sqft_above'].fillna(df['sqft_above'].median())"
   ]
  },
  {
   "cell_type": "code",
   "execution_count": null,
   "metadata": {
    "execution": {
     "iopub.execute_input": "2025-03-24T13:29:23.798793Z",
     "iopub.status.busy": "2025-03-24T13:29:23.798357Z",
     "iopub.status.idle": "2025-03-24T13:29:23.816272Z",
     "shell.execute_reply": "2025-03-24T13:29:23.815125Z",
     "shell.execute_reply.started": "2025-03-24T13:29:23.798763Z"
    }
   },
   "outputs": [],
   "source": [
    "# Dropping 'id', 'sqft_basement' Column\n",
    "\n",
    "df = df.drop(['id','sqft_basement', 'sqft_above'], axis=1)"
   ]
  },
  {
   "cell_type": "code",
   "execution_count": null,
   "metadata": {
    "execution": {
     "iopub.execute_input": "2025-03-24T13:29:23.817631Z",
     "iopub.status.busy": "2025-03-24T13:29:23.817293Z",
     "iopub.status.idle": "2025-03-24T13:29:23.839695Z",
     "shell.execute_reply": "2025-03-24T13:29:23.838385Z",
     "shell.execute_reply.started": "2025-03-24T13:29:23.817592Z"
    }
   },
   "outputs": [],
   "source": [
    "# Transforming & dropping 'date' column and creating 2 new columns\n",
    "\n",
    "df['date'] = pd.to_datetime(df['date'])\n",
    "df['year_sold'] = df['date'].dt.year\n",
    "df['month_sold'] = df['date'].dt.month\n",
    "df.drop(columns=['date'], inplace=True)"
   ]
  },
  {
   "cell_type": "code",
   "execution_count": null,
   "metadata": {
    "execution": {
     "iopub.execute_input": "2025-03-24T13:29:23.841546Z",
     "iopub.status.busy": "2025-03-24T13:29:23.841110Z",
     "iopub.status.idle": "2025-03-24T13:29:23.876162Z",
     "shell.execute_reply": "2025-03-24T13:29:23.875219Z",
     "shell.execute_reply.started": "2025-03-24T13:29:23.841506Z"
    }
   },
   "outputs": [],
   "source": [
    "# Correlation of columns with price\n",
    "\n",
    "df.corr()['price']"
   ]
  },
  {
   "cell_type": "code",
   "execution_count": null,
   "metadata": {
    "execution": {
     "iopub.execute_input": "2025-03-24T13:29:23.877487Z",
     "iopub.status.busy": "2025-03-24T13:29:23.877162Z",
     "iopub.status.idle": "2025-03-24T13:29:23.883663Z",
     "shell.execute_reply": "2025-03-24T13:29:23.882427Z",
     "shell.execute_reply.started": "2025-03-24T13:29:23.877460Z"
    }
   },
   "outputs": [],
   "source": [
    "# Dropping low correlated columns\n",
    "\n",
    "df = df.drop(['sqft_lot', 'sqft_lot15', 'condition', 'month_sold'],axis=1)"
   ]
  },
  {
   "cell_type": "code",
   "execution_count": null,
   "metadata": {
    "execution": {
     "iopub.execute_input": "2025-03-24T13:29:23.885019Z",
     "iopub.status.busy": "2025-03-24T13:29:23.884731Z",
     "iopub.status.idle": "2025-03-24T13:29:23.929208Z",
     "shell.execute_reply": "2025-03-24T13:29:23.928300Z",
     "shell.execute_reply.started": "2025-03-24T13:29:23.884994Z"
    }
   },
   "outputs": [],
   "source": [
    "# Correlation of columns with price\n",
    "\n",
    "df.corr()['price']"
   ]
  },
  {
   "cell_type": "code",
   "execution_count": null,
   "metadata": {
    "execution": {
     "iopub.execute_input": "2025-03-24T13:29:23.930665Z",
     "iopub.status.busy": "2025-03-24T13:29:23.930275Z",
     "iopub.status.idle": "2025-03-24T13:29:23.949569Z",
     "shell.execute_reply": "2025-03-24T13:29:23.948364Z",
     "shell.execute_reply.started": "2025-03-24T13:29:23.930621Z"
    }
   },
   "outputs": [],
   "source": [
    "# Created 'age_of_home' column based on 'year_sold' and 'yr_built'\n",
    "\n",
    "df['age_of_home'] = df['year_sold'] - df['yr_built']\n",
    "df[\"age_of_home\"] = df[\"age_of_home\"].apply(lambda x: max(x, 0))"
   ]
  },
  {
   "cell_type": "code",
   "execution_count": null,
   "metadata": {
    "execution": {
     "iopub.execute_input": "2025-03-24T13:29:23.951010Z",
     "iopub.status.busy": "2025-03-24T13:29:23.950672Z",
     "iopub.status.idle": "2025-03-24T13:29:23.989437Z",
     "shell.execute_reply": "2025-03-24T13:29:23.988438Z",
     "shell.execute_reply.started": "2025-03-24T13:29:23.950974Z"
    }
   },
   "outputs": [],
   "source": [
    "# Correlation of columns with price\n",
    "\n",
    "df.corr()['price']"
   ]
  },
  {
   "cell_type": "code",
   "execution_count": null,
   "metadata": {
    "execution": {
     "iopub.execute_input": "2025-03-24T13:29:23.990681Z",
     "iopub.status.busy": "2025-03-24T13:29:23.990416Z",
     "iopub.status.idle": "2025-03-24T13:29:23.996476Z",
     "shell.execute_reply": "2025-03-24T13:29:23.995428Z",
     "shell.execute_reply.started": "2025-03-24T13:29:23.990658Z"
    }
   },
   "outputs": [],
   "source": [
    "# Dropping low correlated columns\n",
    "\n",
    "df = df.drop(['yr_built', 'year_sold', 'age_of_home'],axis=1)"
   ]
  },
  {
   "cell_type": "code",
   "execution_count": null,
   "metadata": {
    "execution": {
     "iopub.execute_input": "2025-03-24T13:29:23.997795Z",
     "iopub.status.busy": "2025-03-24T13:29:23.997508Z",
     "iopub.status.idle": "2025-03-24T13:29:24.029928Z",
     "shell.execute_reply": "2025-03-24T13:29:24.028816Z",
     "shell.execute_reply.started": "2025-03-24T13:29:23.997770Z"
    }
   },
   "outputs": [],
   "source": [
    "# Correlation of columns with price\n",
    "\n",
    "df.corr()['price']"
   ]
  },
  {
   "cell_type": "code",
   "execution_count": null,
   "metadata": {
    "execution": {
     "iopub.execute_input": "2025-03-24T13:29:24.031235Z",
     "iopub.status.busy": "2025-03-24T13:29:24.030973Z",
     "iopub.status.idle": "2025-03-24T13:29:24.207705Z",
     "shell.execute_reply": "2025-03-24T13:29:24.205735Z",
     "shell.execute_reply.started": "2025-03-24T13:29:24.031212Z"
    }
   },
   "outputs": [],
   "source": [
    "# Creating 'location_cluster' column based on 'lat' and 'long'\n",
    "\n",
    "from sklearn.cluster import KMeans\n",
    "kmeans = KMeans(n_clusters=5, random_state=42)\n",
    "df['location_cluster'] = kmeans.fit_predict(df[['lat', 'long']])\n",
    "df.drop(columns=['lat', 'long'], inplace=True)"
   ]
  },
  {
   "cell_type": "code",
   "execution_count": null,
   "metadata": {
    "execution": {
     "iopub.execute_input": "2025-03-24T13:29:24.208930Z",
     "iopub.status.busy": "2025-03-24T13:29:24.208641Z",
     "iopub.status.idle": "2025-03-24T13:29:24.232890Z",
     "shell.execute_reply": "2025-03-24T13:29:24.231483Z",
     "shell.execute_reply.started": "2025-03-24T13:29:24.208906Z"
    }
   },
   "outputs": [],
   "source": [
    "# Correlation of columns with price\n",
    "\n",
    "df.corr()['price']"
   ]
  },
  {
   "cell_type": "code",
   "execution_count": null,
   "metadata": {
    "execution": {
     "iopub.execute_input": "2025-03-24T13:29:24.234561Z",
     "iopub.status.busy": "2025-03-24T13:29:24.234123Z",
     "iopub.status.idle": "2025-03-24T13:29:24.244433Z",
     "shell.execute_reply": "2025-03-24T13:29:24.243417Z",
     "shell.execute_reply.started": "2025-03-24T13:29:24.234522Z"
    }
   },
   "outputs": [],
   "source": [
    "# Creating 'zipcode_group' column based on mean price for zipcode\n",
    "\n",
    "df['zipcode_group'] = df.groupby('zipcode')['price'].transform('median')\n",
    "df.drop(columns=['zipcode'], inplace=True)"
   ]
  },
  {
   "cell_type": "code",
   "execution_count": null,
   "metadata": {
    "execution": {
     "iopub.execute_input": "2025-03-24T13:29:24.245703Z",
     "iopub.status.busy": "2025-03-24T13:29:24.245355Z",
     "iopub.status.idle": "2025-03-24T13:29:24.269653Z",
     "shell.execute_reply": "2025-03-24T13:29:24.268794Z",
     "shell.execute_reply.started": "2025-03-24T13:29:24.245659Z"
    }
   },
   "outputs": [],
   "source": [
    "# Correlation of columns with price\n",
    "\n",
    "df.corr()['price']"
   ]
  },
  {
   "cell_type": "code",
   "execution_count": null,
   "metadata": {
    "execution": {
     "iopub.execute_input": "2025-03-24T13:29:24.270733Z",
     "iopub.status.busy": "2025-03-24T13:29:24.270498Z",
     "iopub.status.idle": "2025-03-24T13:29:24.278595Z",
     "shell.execute_reply": "2025-03-24T13:29:24.277441Z",
     "shell.execute_reply.started": "2025-03-24T13:29:24.270711Z"
    }
   },
   "outputs": [],
   "source": [
    "# Creating 'was_renovated' column based on 'yr_renovated'\n",
    "\n",
    "df['was_renovated'] = (df['yr_renovated'] > 0).astype(int)\n",
    "df.drop(columns=['yr_renovated'], inplace=True)"
   ]
  },
  {
   "cell_type": "code",
   "execution_count": null,
   "metadata": {
    "execution": {
     "iopub.execute_input": "2025-03-24T13:29:24.283783Z",
     "iopub.status.busy": "2025-03-24T13:29:24.283462Z",
     "iopub.status.idle": "2025-03-24T13:29:24.312262Z",
     "shell.execute_reply": "2025-03-24T13:29:24.311264Z",
     "shell.execute_reply.started": "2025-03-24T13:29:24.283757Z"
    }
   },
   "outputs": [],
   "source": [
    "# Correlation of columns with price\n",
    "\n",
    "df.corr()['price']"
   ]
  },
  {
   "cell_type": "code",
   "execution_count": null,
   "metadata": {
    "execution": {
     "iopub.execute_input": "2025-03-24T13:29:24.314740Z",
     "iopub.status.busy": "2025-03-24T13:29:24.314444Z",
     "iopub.status.idle": "2025-03-24T13:29:24.322630Z",
     "shell.execute_reply": "2025-03-24T13:29:24.321311Z",
     "shell.execute_reply.started": "2025-03-24T13:29:24.314714Z"
    }
   },
   "outputs": [],
   "source": [
    "# Correlation of columns with price\n",
    "\n",
    "df.dtypes"
   ]
  },
  {
   "cell_type": "markdown",
   "metadata": {},
   "source": [
    "# Data Split"
   ]
  },
  {
   "cell_type": "code",
   "execution_count": null,
   "metadata": {
    "execution": {
     "iopub.execute_input": "2025-03-24T13:29:24.323851Z",
     "iopub.status.busy": "2025-03-24T13:29:24.323586Z",
     "iopub.status.idle": "2025-03-24T13:29:24.343040Z",
     "shell.execute_reply": "2025-03-24T13:29:24.341613Z",
     "shell.execute_reply.started": "2025-03-24T13:29:24.323828Z"
    }
   },
   "outputs": [],
   "source": [
    "# X & y split\n",
    "\n",
    "X = df.drop('price', axis=1)\n",
    "y = df['price']"
   ]
  },
  {
   "cell_type": "markdown",
   "metadata": {},
   "source": [
    "# Train-Test Split"
   ]
  },
  {
   "cell_type": "code",
   "execution_count": null,
   "metadata": {
    "execution": {
     "iopub.execute_input": "2025-03-24T13:29:24.344812Z",
     "iopub.status.busy": "2025-03-24T13:29:24.344398Z",
     "iopub.status.idle": "2025-03-24T13:29:24.363160Z",
     "shell.execute_reply": "2025-03-24T13:29:24.361858Z",
     "shell.execute_reply.started": "2025-03-24T13:29:24.344767Z"
    }
   },
   "outputs": [],
   "source": [
    "# Train-Test split\n",
    "\n",
    "from sklearn.model_selection import train_test_split\n",
    "\n",
    "X_train, X_other, y_train, y_other = train_test_split(X, y, test_size=0.3, random_state=42)\n",
    "X_val, X_test, y_val, y_test = train_test_split(X_other, y_other, test_size=0.5, random_state=42)"
   ]
  },
  {
   "cell_type": "markdown",
   "metadata": {},
   "source": [
    "# Scaling"
   ]
  },
  {
   "cell_type": "code",
   "execution_count": null,
   "metadata": {
    "execution": {
     "iopub.execute_input": "2025-03-24T13:29:24.364460Z",
     "iopub.status.busy": "2025-03-24T13:29:24.364063Z",
     "iopub.status.idle": "2025-03-24T13:29:24.384813Z",
     "shell.execute_reply": "2025-03-24T13:29:24.383444Z",
     "shell.execute_reply.started": "2025-03-24T13:29:24.364421Z"
    }
   },
   "outputs": [],
   "source": [
    "# Scaling X features\n",
    "\n",
    "from sklearn.preprocessing import StandardScaler\n",
    "\n",
    "scaler = StandardScaler()\n",
    "X_train_scaled = scaler.fit_transform(X_train)\n",
    "X_val_scaled = scaler.transform(X_val)\n",
    "X_test_scaled = scaler.transform(X_test)"
   ]
  },
  {
   "cell_type": "markdown",
   "metadata": {},
   "source": [
    "# Check Variance"
   ]
  },
  {
   "cell_type": "code",
   "execution_count": null,
   "metadata": {
    "execution": {
     "iopub.execute_input": "2025-03-24T13:29:24.386424Z",
     "iopub.status.busy": "2025-03-24T13:29:24.385985Z",
     "iopub.status.idle": "2025-03-24T13:29:24.455103Z",
     "shell.execute_reply": "2025-03-24T13:29:24.454059Z",
     "shell.execute_reply.started": "2025-03-24T13:29:24.386381Z"
    }
   },
   "outputs": [],
   "source": [
    "# Checking the variance of the features\n",
    "\n",
    "from statsmodels.stats.outliers_influence import variance_inflation_factor\n",
    "\n",
    "vif_data = pd.DataFrame({\n",
    "    \"Feature\": X_train.columns,\n",
    "    \"VIF\": [variance_inflation_factor(X_train_scaled, i) for i in range(X_train_scaled.shape[1])]\n",
    "}).sort_values(by=\"VIF\", ascending=False)\n",
    "print(vif_data)"
   ]
  },
  {
   "cell_type": "markdown",
   "metadata": {
    "execution": {
     "iopub.execute_input": "2025-03-15T14:24:53.175124Z",
     "iopub.status.busy": "2025-03-15T14:24:53.174753Z",
     "iopub.status.idle": "2025-03-15T14:24:53.224676Z",
     "shell.execute_reply": "2025-03-15T14:24:53.223418Z",
     "shell.execute_reply.started": "2025-03-15T14:24:53.175091Z"
    }
   },
   "source": [
    "# Model Building"
   ]
  },
  {
   "cell_type": "markdown",
   "metadata": {},
   "source": [
    "## Linear Regression"
   ]
  },
  {
   "cell_type": "code",
   "execution_count": null,
   "metadata": {
    "execution": {
     "iopub.execute_input": "2025-03-24T13:29:24.456594Z",
     "iopub.status.busy": "2025-03-24T13:29:24.456200Z",
     "iopub.status.idle": "2025-03-24T13:29:24.472313Z",
     "shell.execute_reply": "2025-03-24T13:29:24.471212Z",
     "shell.execute_reply.started": "2025-03-24T13:29:24.456557Z"
    }
   },
   "outputs": [],
   "source": [
    "# Linear model\n",
    "\n",
    "from sklearn.linear_model import LinearRegression\n",
    "\n",
    "lr_model = LinearRegression()\n",
    "lr_model.fit(X_train_scaled, y_train)\n",
    "\n",
    "train_score = lr_model.score(X_train_scaled, y_train)\n",
    "val_score = lr_model.score(X_val_scaled, y_val)\n",
    "\n",
    "print(f\"Linear Regression Train Score: {train_score:.4f}\")\n",
    "print(f\"Linear Regression Validation Score: {val_score:.4f}\")"
   ]
  },
  {
   "cell_type": "code",
   "execution_count": null,
   "metadata": {
    "execution": {
     "iopub.execute_input": "2025-03-24T13:29:24.473747Z",
     "iopub.status.busy": "2025-03-24T13:29:24.473451Z",
     "iopub.status.idle": "2025-03-24T13:29:24.486681Z",
     "shell.execute_reply": "2025-03-24T13:29:24.485331Z",
     "shell.execute_reply.started": "2025-03-24T13:29:24.473723Z"
    }
   },
   "outputs": [],
   "source": [
    "# Linear Regression feature importances\n",
    "\n",
    "feature_importance = pd.DataFrame({\n",
    "    'Feature': X.columns,\n",
    "    'LinearRegression_Coeff': lr_model.coef_\n",
    "}).set_index('Feature').sort_values(by='LinearRegression_Coeff', ascending=False)\n",
    "\n",
    "print(feature_importance)"
   ]
  },
  {
   "cell_type": "markdown",
   "metadata": {},
   "source": [
    "## Polynomial Regression"
   ]
  },
  {
   "cell_type": "code",
   "execution_count": null,
   "metadata": {
    "execution": {
     "iopub.execute_input": "2025-03-24T13:29:24.487817Z",
     "iopub.status.busy": "2025-03-24T13:29:24.487544Z",
     "iopub.status.idle": "2025-03-24T13:29:24.580998Z",
     "shell.execute_reply": "2025-03-24T13:29:24.579928Z",
     "shell.execute_reply.started": "2025-03-24T13:29:24.487793Z"
    }
   },
   "outputs": [],
   "source": [
    "from sklearn.preprocessing import PolynomialFeatures\n",
    "from sklearn.pipeline import make_pipeline\n",
    "\n",
    "degree = 2\n",
    "poly_features = PolynomialFeatures(degree=degree)\n",
    "\n",
    "poly_model = make_pipeline(poly_features, LinearRegression())\n",
    "poly_model.fit(X_train_scaled, y_train)\n",
    "\n",
    "train_score = poly_model.score(X_train_scaled, y_train)\n",
    "val_score = poly_model.score(X_val_scaled, y_val)\n",
    "\n",
    "print(f\"Polynomial Regression Train Score: {train_score:.4f}\")\n",
    "print(f\"Polynomial Regression Validation Score: {val_score:.4f}\")"
   ]
  },
  {
   "cell_type": "code",
   "execution_count": null,
   "metadata": {
    "execution": {
     "iopub.execute_input": "2025-03-24T13:29:24.582502Z",
     "iopub.status.busy": "2025-03-24T13:29:24.582079Z",
     "iopub.status.idle": "2025-03-24T13:29:24.594243Z",
     "shell.execute_reply": "2025-03-24T13:29:24.593226Z",
     "shell.execute_reply.started": "2025-03-24T13:29:24.582464Z"
    }
   },
   "outputs": [],
   "source": [
    "# Polynomial Regression feature importances\n",
    "\n",
    "linear_reg = poly_model.named_steps['linearregression']\n",
    "\n",
    "feature_importance = pd.DataFrame({\n",
    "    'Feature': poly_features.get_feature_names_out(input_features=X.columns),\n",
    "    'PolynomialRegression_Coeff': linear_reg.coef_\n",
    "}).set_index('Feature').sort_values(by='PolynomialRegression_Coeff', ascending=False)\n",
    "\n",
    "print(feature_importance)\n"
   ]
  },
  {
   "cell_type": "markdown",
   "metadata": {},
   "source": [
    "## RidgeCV"
   ]
  },
  {
   "cell_type": "code",
   "execution_count": null,
   "metadata": {
    "execution": {
     "iopub.execute_input": "2025-03-24T13:29:24.595787Z",
     "iopub.status.busy": "2025-03-24T13:29:24.595360Z",
     "iopub.status.idle": "2025-03-24T13:29:26.913830Z",
     "shell.execute_reply": "2025-03-24T13:29:26.912613Z",
     "shell.execute_reply.started": "2025-03-24T13:29:24.595758Z"
    }
   },
   "outputs": [],
   "source": [
    "# RigdeCV model\n",
    "\n",
    "from sklearn.linear_model import RidgeCV\n",
    "\n",
    "ridge_cv = RidgeCV(alphas=np.logspace(-3, 3, 100), cv=5)\n",
    "ridge_cv.fit(X_train_scaled, y_train)\n",
    "\n",
    "train_score = ridge_cv.score(X_train_scaled, y_train)\n",
    "val_score = ridge_cv.score(X_val_scaled, y_val)\n",
    "print(f\"Ridge Train Score: {train_score:.4f}\")\n",
    "print(f\"Ridge Validation Score: {val_score:.4f}\")"
   ]
  },
  {
   "cell_type": "code",
   "execution_count": null,
   "metadata": {
    "execution": {
     "iopub.execute_input": "2025-03-24T13:29:26.915451Z",
     "iopub.status.busy": "2025-03-24T13:29:26.914974Z",
     "iopub.status.idle": "2025-03-24T13:29:26.924588Z",
     "shell.execute_reply": "2025-03-24T13:29:26.923563Z",
     "shell.execute_reply.started": "2025-03-24T13:29:26.915419Z"
    }
   },
   "outputs": [],
   "source": [
    "# RidgeCV feature importances\n",
    "\n",
    "feature_importance = pd.DataFrame({\n",
    "    'Feature': X.columns,\n",
    "    'Ridge_Coeff': ridge_cv.coef_\n",
    "}).set_index('Feature').sort_values(by='Ridge_Coeff', ascending=False)\n",
    "\n",
    "print(feature_importance)"
   ]
  },
  {
   "cell_type": "markdown",
   "metadata": {},
   "source": [
    "## LassoCV"
   ]
  },
  {
   "cell_type": "code",
   "execution_count": null,
   "metadata": {
    "execution": {
     "iopub.execute_input": "2025-03-24T13:29:26.925908Z",
     "iopub.status.busy": "2025-03-24T13:29:26.925612Z",
     "iopub.status.idle": "2025-03-24T13:29:27.100872Z",
     "shell.execute_reply": "2025-03-24T13:29:27.099783Z",
     "shell.execute_reply.started": "2025-03-24T13:29:26.925868Z"
    }
   },
   "outputs": [],
   "source": [
    "# LassoCV model\n",
    "\n",
    "from sklearn.linear_model import LassoCV\n",
    "\n",
    "lasso_cv = LassoCV(alphas=np.logspace(-3, 3, 100), cv=5, max_iter=100000, random_state=42)\n",
    "lasso_cv.fit(X_train_scaled, y_train)\n",
    "\n",
    "train_score_lasso = lasso_cv.score(X_train_scaled, y_train)\n",
    "print(f\"Lasso Train Score: {train_score_lasso:.4f}\")\n",
    "\n",
    "val_score_lasso = lasso_cv.score(X_val_scaled, y_val)\n",
    "print(f\"Lasso Validation Score: {val_score_lasso:.4f}\")"
   ]
  },
  {
   "cell_type": "code",
   "execution_count": null,
   "metadata": {
    "execution": {
     "iopub.execute_input": "2025-03-24T13:29:27.102470Z",
     "iopub.status.busy": "2025-03-24T13:29:27.102046Z",
     "iopub.status.idle": "2025-03-24T13:29:27.110283Z",
     "shell.execute_reply": "2025-03-24T13:29:27.109303Z",
     "shell.execute_reply.started": "2025-03-24T13:29:27.102434Z"
    }
   },
   "outputs": [],
   "source": [
    "# LassoCV feature importances\n",
    "\n",
    "lasso_coefficients = pd.DataFrame({\n",
    "    'Feature': X.columns,\n",
    "    'Lasso_Coeff': lasso_cv.coef_\n",
    "}).set_index('Feature')\n",
    "\n",
    "print(lasso_coefficients)"
   ]
  },
  {
   "cell_type": "markdown",
   "metadata": {},
   "source": [
    "## ElasticNetCV"
   ]
  },
  {
   "cell_type": "code",
   "execution_count": null,
   "metadata": {
    "execution": {
     "iopub.execute_input": "2025-03-24T13:29:27.111677Z",
     "iopub.status.busy": "2025-03-24T13:29:27.111387Z",
     "iopub.status.idle": "2025-03-24T13:29:28.587760Z",
     "shell.execute_reply": "2025-03-24T13:29:28.586643Z",
     "shell.execute_reply.started": "2025-03-24T13:29:27.111652Z"
    }
   },
   "outputs": [],
   "source": [
    "# ElasticCV model\n",
    "\n",
    "from sklearn.linear_model import ElasticNetCV\n",
    "\n",
    "elastic_cv = ElasticNetCV(l1_ratio=np.linspace(0.1, 1, 10), \n",
    "                          alphas=np.logspace(-3, 3, 100), \n",
    "                          cv=5, max_iter=100000, \n",
    "                          random_state=42)\n",
    "\n",
    "elastic_cv.fit(X_train_scaled, y_train)\n",
    "\n",
    "train_score = elastic_cv.score(X_train_scaled, y_train)\n",
    "print(f\"ElasticNet Train Score: {train_score:.4f}\")\n",
    "\n",
    "val_score = elastic_cv.score(X_val_scaled, y_val)\n",
    "print(f\"ElasticNet Validation Score: {val_score:.4f}\")"
   ]
  },
  {
   "cell_type": "code",
   "execution_count": null,
   "metadata": {
    "execution": {
     "iopub.execute_input": "2025-03-24T13:29:28.588979Z",
     "iopub.status.busy": "2025-03-24T13:29:28.588711Z",
     "iopub.status.idle": "2025-03-24T13:29:28.597261Z",
     "shell.execute_reply": "2025-03-24T13:29:28.596111Z",
     "shell.execute_reply.started": "2025-03-24T13:29:28.588955Z"
    }
   },
   "outputs": [],
   "source": [
    "# ElasticCV feature importances\n",
    "\n",
    "elasticnet_coefficients = pd.DataFrame({\n",
    "    'Feature': X.columns,\n",
    "    'Elastic_Coeff': elastic_cv.coef_\n",
    "}).set_index('Feature')\n",
    "\n",
    "print(elasticnet_coefficients)"
   ]
  },
  {
   "cell_type": "markdown",
   "metadata": {},
   "source": [
    "## Polynomial Regression with Lasso"
   ]
  },
  {
   "cell_type": "code",
   "execution_count": null,
   "metadata": {
    "execution": {
     "iopub.execute_input": "2025-03-24T13:29:28.599005Z",
     "iopub.status.busy": "2025-03-24T13:29:28.598472Z",
     "iopub.status.idle": "2025-03-24T13:29:30.534023Z",
     "shell.execute_reply": "2025-03-24T13:29:30.532907Z",
     "shell.execute_reply.started": "2025-03-24T13:29:28.598962Z"
    }
   },
   "outputs": [],
   "source": [
    "# LassoCV Polynomial Regression model\n",
    "\n",
    "from sklearn.linear_model import LassoCV\n",
    "\n",
    "lasso_cv_poly_model = make_pipeline(\n",
    "    PolynomialFeatures(degree=2), \n",
    "    LassoCV(alphas=[0.001, 0.01, 0.1, 1, 10, 100], cv=5, max_iter=5000)\n",
    ")\n",
    "\n",
    "lasso_cv_poly_model.fit(X_train_scaled, y_train)\n",
    "\n",
    "train_score = lasso_cv_poly_model.score(X_train_scaled, y_train)\n",
    "val_score = lasso_cv_poly_model.score(X_val_scaled, y_val)\n",
    "best_alpha_lasso = lasso_cv_poly_model.named_steps[\"lassocv\"].alpha_\n",
    "\n",
    "print(f\"Best Lasso Alpha: {best_alpha_lasso}\")\n",
    "print(f\"Polynomial Lasso Regression (Degree=2) Train Score: {train_score:.4f}\")\n",
    "print(f\"Polynomial Lasso Regression (Degree=2) Validation Score: {val_score:.4f}\")"
   ]
  },
  {
   "cell_type": "code",
   "execution_count": null,
   "metadata": {
    "execution": {
     "iopub.execute_input": "2025-03-24T13:29:30.535683Z",
     "iopub.status.busy": "2025-03-24T13:29:30.535263Z",
     "iopub.status.idle": "2025-03-24T13:29:30.547829Z",
     "shell.execute_reply": "2025-03-24T13:29:30.546741Z",
     "shell.execute_reply.started": "2025-03-24T13:29:30.535644Z"
    }
   },
   "outputs": [],
   "source": [
    "# LassoCV - Polynomial Regression feature importances\n",
    "\n",
    "lasso_model = lasso_cv_poly_model.named_steps[\"lassocv\"]\n",
    "poly_transformer = lasso_cv_poly_model.named_steps[\"polynomialfeatures\"]\n",
    "feature_names = poly_transformer.get_feature_names_out(input_features=X.columns)\n",
    "\n",
    "lasso_coefficients = lasso_model.coef_\n",
    "\n",
    "feature_importance = pd.DataFrame({\n",
    "    'Feature': feature_names,\n",
    "    'Lasso_Coefficient': lasso_coefficients\n",
    "}).set_index('Feature').sort_values(by='Lasso_Coefficient', ascending=False)\n",
    "\n",
    "print(feature_importance)\n"
   ]
  },
  {
   "cell_type": "markdown",
   "metadata": {},
   "source": [
    "# Final Evaluation"
   ]
  },
  {
   "cell_type": "code",
   "execution_count": null,
   "metadata": {
    "execution": {
     "iopub.execute_input": "2025-03-24T13:29:30.549423Z",
     "iopub.status.busy": "2025-03-24T13:29:30.549045Z",
     "iopub.status.idle": "2025-03-24T13:29:30.582362Z",
     "shell.execute_reply": "2025-03-24T13:29:30.581247Z",
     "shell.execute_reply.started": "2025-03-24T13:29:30.549386Z"
    }
   },
   "outputs": [],
   "source": [
    "#Final Evaluations on Test Data\n",
    "\n",
    "test_score_lr = lr_model.score(X_test_scaled, y_test)\n",
    "test_score_pl = poly_model.score(X_test_scaled, y_test)\n",
    "test_score_ridge = ridge_cv.score(X_test_scaled, y_test)\n",
    "test_score_lasso = lasso_cv.score(X_test_scaled, y_test)\n",
    "test_score = elastic_cv.score(X_test_scaled, y_test)\n",
    "test_score_lassopoly = lasso_cv_poly_model.score(X_test_scaled, y_test)\n",
    "\n",
    "print(f\"Linear Regression Test Score: {test_score_lr:.4f}\")\n",
    "print(f\"Polynomial Regression Test Score: {test_score_pl:.4f}\")\n",
    "print(f\"Ridge Test Score: {test_score_ridge:.4f}\")\n",
    "print(f\"Lasso Test Score: {test_score_lasso:.4f}\")\n",
    "print(f\"ElasticNet Test Score: {test_score:.4f}\")\n",
    "print(f\"Lasso - Polynomial Regression Test Score: {test_score_lassopoly:.4f}\")"
   ]
  },
  {
   "cell_type": "code",
   "execution_count": null,
   "metadata": {
    "execution": {
     "iopub.execute_input": "2025-03-24T13:29:30.583894Z",
     "iopub.status.busy": "2025-03-24T13:29:30.583614Z",
     "iopub.status.idle": "2025-03-24T13:29:30.607723Z",
     "shell.execute_reply": "2025-03-24T13:29:30.606690Z",
     "shell.execute_reply.started": "2025-03-24T13:29:30.583869Z"
    }
   },
   "outputs": [],
   "source": [
    "from sklearn.metrics import mean_squared_error, mean_absolute_error\n",
    "\n",
    "y_test_pred_linear = lr_model.predict(X_test_scaled)\n",
    "y_test_pred_polynomial = poly_model.predict(X_test_scaled)\n",
    "y_test_pred_ridge = ridge_cv.predict(X_test_scaled)\n",
    "y_test_pred_lasso = lasso_cv.predict(X_test_scaled)\n",
    "y_test_pred_elastic = elastic_cv.predict(X_test_scaled)\n",
    "y_test_pred_lassopoly = lasso_cv_poly_model.predict(X_test_scaled)\n",
    "\n",
    "for model_name, y_pred in zip(\n",
    "    [\"LinearRegression\", \"PolynomialRegressio\", \"RidgeCV\", \"LassoCV\", \"ElasticNetCV\", \"LassoPoly\"], \n",
    "    [y_test_pred_linear, y_test_pred_polynomial, y_test_pred_ridge, y_test_pred_lasso, y_test_pred_elastic, y_test_pred_lassopoly]\n",
    "):\n",
    "    rmse = mean_squared_error(y_test, y_pred, squared=False)\n",
    "    mae = mean_absolute_error(y_test, y_pred)\n",
    "    print(f\"{model_name} RMSE: {rmse:.4f}, MAE: {mae:.4f}\")"
   ]
  },
  {
   "cell_type": "markdown",
   "metadata": {},
   "source": [
    "# Conclusion"
   ]
  },
  {
   "cell_type": "markdown",
   "metadata": {},
   "source": [
    "***Polynomial Regression significantly improves performance over Linear Regression, and adding Lasso regularization (LassoPoly) further enhances validation and test scores, achieving the lowest RMSE and MAE. This suggests that polynomial features capture complex patterns, while Lasso prevents overfitting.***"
   ]
  }
 ],
 "metadata": {
  "kaggle": {
   "accelerator": "none",
   "dataSources": [
    {
     "datasetId": 30990,
     "sourceId": 39532,
     "sourceType": "datasetVersion"
    }
   ],
   "dockerImageVersionId": 30918,
   "isGpuEnabled": false,
   "isInternetEnabled": true,
   "language": "python",
   "sourceType": "notebook"
  },
  "kernelspec": {
   "display_name": "Python 3 (ipykernel)",
   "language": "python",
   "name": "python3"
  },
  "language_info": {
   "codemirror_mode": {
    "name": "ipython",
    "version": 3
   },
   "file_extension": ".py",
   "mimetype": "text/x-python",
   "name": "python",
   "nbconvert_exporter": "python",
   "pygments_lexer": "ipython3",
   "version": "3.12.5"
  }
 },
 "nbformat": 4,
 "nbformat_minor": 4
}
