{
 "cells": [
  {
   "cell_type": "code",
   "execution_count": 1,
   "metadata": {
    "_cell_guid": "b1076dfc-b9ad-4769-8c92-a6c4dae69d19",
    "_uuid": "8f2839f25d086af736a60e9eeb907d3b93b6e0e5",
    "execution": {
     "iopub.execute_input": "2025-04-08T17:56:27.203389Z",
     "iopub.status.busy": "2025-04-08T17:56:27.203142Z",
     "iopub.status.idle": "2025-04-08T17:56:28.396975Z",
     "shell.execute_reply": "2025-04-08T17:56:28.396334Z",
     "shell.execute_reply.started": "2025-04-08T17:56:27.203367Z"
    },
    "trusted": true
   },
   "outputs": [],
   "source": [
    "# This Python 3 environment comes with many helpful analytics libraries installed\n",
    "# It is defined by the kaggle/python Docker image: https://github.com/kaggle/docker-python\n",
    "# For example, here's several helpful packages to load\n",
    "\n",
    "import numpy as np # linear algebra\n",
    "import pandas as pd # data processing, CSV file I/O (e.g. pd.read_csv)"
   ]
  },
  {
   "cell_type": "markdown",
   "metadata": {},
   "source": [
    "# Importing Libraries   "
   ]
  },
  {
   "cell_type": "code",
   "execution_count": 2,
   "metadata": {
    "execution": {
     "iopub.execute_input": "2025-04-08T17:56:28.398205Z",
     "iopub.status.busy": "2025-04-08T17:56:28.397768Z",
     "iopub.status.idle": "2025-04-08T17:56:42.019160Z",
     "shell.execute_reply": "2025-04-08T17:56:42.018408Z",
     "shell.execute_reply.started": "2025-04-08T17:56:28.398173Z"
    },
    "trusted": true
   },
   "outputs": [],
   "source": [
    "import os\n",
    "import numpy as np\n",
    "\n",
    "from tensorflow.keras.preprocessing.image import ImageDataGenerator\n",
    "\n",
    "import tensorflow as tf\n",
    "from tensorflow import keras\n",
    "from keras import Sequential\n",
    "from keras.layers import Dense, Conv2D, MaxPooling2D, Flatten, Dropout, BatchNormalization, ReLU, GlobalAveragePooling2D\n",
    "from keras.regularizers import l2\n",
    "\n",
    "from tensorflow.keras.callbacks import EarlyStopping, ReduceLROnPlateau\n",
    "\n",
    "from tensorflow.keras.optimizers import Adam"
   ]
  },
  {
   "cell_type": "markdown",
   "metadata": {},
   "source": [
    "# Configuration"
   ]
  },
  {
   "cell_type": "code",
   "execution_count": 3,
   "metadata": {
    "execution": {
     "iopub.execute_input": "2025-04-08T17:56:42.020406Z",
     "iopub.status.busy": "2025-04-08T17:56:42.019935Z",
     "iopub.status.idle": "2025-04-08T17:56:42.024942Z",
     "shell.execute_reply": "2025-04-08T17:56:42.023880Z",
     "shell.execute_reply.started": "2025-04-08T17:56:42.020382Z"
    },
    "trusted": true
   },
   "outputs": [],
   "source": [
    "COVID_DIR = \"/kaggle/input/covid19-radiography-database/COVID-19_Radiography_Dataset/COVID\"\n",
    "NORMAL_DIR = \"/kaggle/input/covid19-radiography-database/COVID-19_Radiography_Dataset/Normal\"\n",
    "TARGET_SIZE = (150, 150)\n",
    "BATCH_SIZE = 32\n",
    "VALIDATION_SPLIT = 0.2\n",
    "EPOCHS = 30"
   ]
  },
  {
   "cell_type": "markdown",
   "metadata": {},
   "source": [
    "# Data Generators"
   ]
  },
  {
   "cell_type": "code",
   "execution_count": 4,
   "metadata": {
    "execution": {
     "iopub.execute_input": "2025-04-08T17:56:42.027051Z",
     "iopub.status.busy": "2025-04-08T17:56:42.026690Z",
     "iopub.status.idle": "2025-04-08T17:56:42.064361Z",
     "shell.execute_reply": "2025-04-08T17:56:42.063489Z",
     "shell.execute_reply.started": "2025-04-08T17:56:42.027013Z"
    },
    "trusted": true
   },
   "outputs": [],
   "source": [
    "aug_gen = ImageDataGenerator(\n",
    "    rescale=1./255,\n",
    "    rotation_range=10,\n",
    "    zoom_range=0.1,\n",
    "    width_shift_range=0.05,\n",
    "    height_shift_range=0.05,\n",
    "    shear_range=0.1,\n",
    "    horizontal_flip=True,\n",
    "    fill_mode='nearest',\n",
    "    validation_split=VALIDATION_SPLIT\n",
    ")"
   ]
  },
  {
   "cell_type": "code",
   "execution_count": 5,
   "metadata": {
    "execution": {
     "iopub.execute_input": "2025-04-08T17:56:42.065636Z",
     "iopub.status.busy": "2025-04-08T17:56:42.065274Z",
     "iopub.status.idle": "2025-04-08T17:56:42.077850Z",
     "shell.execute_reply": "2025-04-08T17:56:42.076976Z",
     "shell.execute_reply.started": "2025-04-08T17:56:42.065600Z"
    },
    "trusted": true
   },
   "outputs": [],
   "source": [
    "base_gen = ImageDataGenerator(\n",
    "    rescale=1./255,\n",
    "    validation_split=VALIDATION_SPLIT\n",
    ")"
   ]
  },
  {
   "cell_type": "code",
   "execution_count": 6,
   "metadata": {
    "execution": {
     "iopub.execute_input": "2025-04-08T17:56:42.080394Z",
     "iopub.status.busy": "2025-04-08T17:56:42.080159Z",
     "iopub.status.idle": "2025-04-08T17:56:48.710556Z",
     "shell.execute_reply": "2025-04-08T17:56:48.709905Z",
     "shell.execute_reply.started": "2025-04-08T17:56:42.080374Z"
    },
    "trusted": true
   },
   "outputs": [
    {
     "name": "stdout",
     "output_type": "stream",
     "text": [
      "Found 2893 images belonging to 1 classes.\n"
     ]
    }
   ],
   "source": [
    "train_covid = aug_gen.flow_from_directory(\n",
    "    directory=COVID_DIR,\n",
    "    classes=[\"images\"],\n",
    "    target_size=TARGET_SIZE,\n",
    "    batch_size=BATCH_SIZE,\n",
    "    class_mode='binary',\n",
    "    subset='training',\n",
    "    shuffle=True\n",
    ")"
   ]
  },
  {
   "cell_type": "code",
   "execution_count": 7,
   "metadata": {
    "execution": {
     "iopub.execute_input": "2025-04-08T17:56:48.712565Z",
     "iopub.status.busy": "2025-04-08T17:56:48.712232Z",
     "iopub.status.idle": "2025-04-08T17:57:06.698064Z",
     "shell.execute_reply": "2025-04-08T17:57:06.697377Z",
     "shell.execute_reply.started": "2025-04-08T17:56:48.712531Z"
    },
    "trusted": true
   },
   "outputs": [
    {
     "name": "stdout",
     "output_type": "stream",
     "text": [
      "Found 8154 images belonging to 1 classes.\n"
     ]
    }
   ],
   "source": [
    "train_normal = aug_gen.flow_from_directory(\n",
    "    directory=NORMAL_DIR,\n",
    "    classes=[\"images\"],\n",
    "    target_size=TARGET_SIZE,\n",
    "    batch_size=BATCH_SIZE,\n",
    "    class_mode='binary',\n",
    "    subset='training',\n",
    "    shuffle=True\n",
    ")"
   ]
  },
  {
   "cell_type": "code",
   "execution_count": 8,
   "metadata": {
    "execution": {
     "iopub.execute_input": "2025-04-08T17:57:06.699312Z",
     "iopub.status.busy": "2025-04-08T17:57:06.698992Z",
     "iopub.status.idle": "2025-04-08T17:57:07.791604Z",
     "shell.execute_reply": "2025-04-08T17:57:07.790724Z",
     "shell.execute_reply.started": "2025-04-08T17:57:06.699281Z"
    },
    "trusted": true
   },
   "outputs": [
    {
     "name": "stdout",
     "output_type": "stream",
     "text": [
      "Found 723 images belonging to 1 classes.\n"
     ]
    }
   ],
   "source": [
    "val_covid = base_gen.flow_from_directory(\n",
    "    directory=COVID_DIR,\n",
    "    classes=[\"images\"],\n",
    "    target_size=TARGET_SIZE,\n",
    "    batch_size=BATCH_SIZE,\n",
    "    class_mode='binary',\n",
    "    subset='validation',\n",
    "    shuffle=False\n",
    ")"
   ]
  },
  {
   "cell_type": "code",
   "execution_count": 9,
   "metadata": {
    "execution": {
     "iopub.execute_input": "2025-04-08T17:57:07.792665Z",
     "iopub.status.busy": "2025-04-08T17:57:07.792412Z",
     "iopub.status.idle": "2025-04-08T17:57:11.078747Z",
     "shell.execute_reply": "2025-04-08T17:57:11.078041Z",
     "shell.execute_reply.started": "2025-04-08T17:57:07.792645Z"
    },
    "trusted": true
   },
   "outputs": [
    {
     "name": "stdout",
     "output_type": "stream",
     "text": [
      "Found 2038 images belonging to 1 classes.\n"
     ]
    }
   ],
   "source": [
    "val_normal = base_gen.flow_from_directory(\n",
    "    directory=NORMAL_DIR,\n",
    "    classes=[\"images\"],\n",
    "    target_size=TARGET_SIZE,\n",
    "    batch_size=BATCH_SIZE,\n",
    "    class_mode='binary',\n",
    "    subset='validation',\n",
    "    shuffle=False\n",
    ")"
   ]
  },
  {
   "cell_type": "markdown",
   "metadata": {},
   "source": [
    "# Manual Labelling"
   ]
  },
  {
   "cell_type": "code",
   "execution_count": 10,
   "metadata": {
    "execution": {
     "iopub.execute_input": "2025-04-08T17:57:11.079870Z",
     "iopub.status.busy": "2025-04-08T17:57:11.079573Z",
     "iopub.status.idle": "2025-04-08T17:57:11.084016Z",
     "shell.execute_reply": "2025-04-08T17:57:11.083342Z",
     "shell.execute_reply.started": "2025-04-08T17:57:11.079842Z"
    },
    "trusted": true
   },
   "outputs": [],
   "source": [
    "def labeled_generator(generator, label):\n",
    "    while True:\n",
    "        x, _ = next(generator)\n",
    "        y = np.full((x.shape[0],), label, dtype=np.float32)\n",
    "        yield x, y"
   ]
  },
  {
   "cell_type": "code",
   "execution_count": 11,
   "metadata": {
    "execution": {
     "iopub.execute_input": "2025-04-08T17:57:11.085279Z",
     "iopub.status.busy": "2025-04-08T17:57:11.084900Z",
     "iopub.status.idle": "2025-04-08T17:57:11.101272Z",
     "shell.execute_reply": "2025-04-08T17:57:11.100515Z",
     "shell.execute_reply.started": "2025-04-08T17:57:11.085240Z"
    },
    "trusted": true
   },
   "outputs": [],
   "source": [
    "train_covid_labeled = labeled_generator(train_covid, 1.0)\n",
    "train_normal_labeled = labeled_generator(train_normal, 0.0)\n",
    "val_covid_labeled = labeled_generator(val_covid, 1.0)\n",
    "val_normal_labeled = labeled_generator(val_normal, 0.0)"
   ]
  },
  {
   "cell_type": "markdown",
   "metadata": {},
   "source": [
    "# Combined Generators"
   ]
  },
  {
   "cell_type": "code",
   "execution_count": 12,
   "metadata": {
    "execution": {
     "iopub.execute_input": "2025-04-08T17:57:11.102453Z",
     "iopub.status.busy": "2025-04-08T17:57:11.102170Z",
     "iopub.status.idle": "2025-04-08T17:57:11.119729Z",
     "shell.execute_reply": "2025-04-08T17:57:11.118937Z",
     "shell.execute_reply.started": "2025-04-08T17:57:11.102425Z"
    },
    "trusted": true
   },
   "outputs": [],
   "source": [
    "def combined_generator(gen1, gen2):\n",
    "    while True:\n",
    "        x1, y1 = next(gen1)\n",
    "        x2, y2 = next(gen2)\n",
    "        x = np.concatenate((x1, x2), axis=0)\n",
    "        y = np.concatenate((y1, y2), axis=0)\n",
    "        idx = np.random.permutation(len(x))\n",
    "        yield x[idx], y[idx]\n",
    "\n",
    "train_combined = combined_generator(train_covid_labeled, train_normal_labeled)\n",
    "val_combined = combined_generator(val_covid_labeled, val_normal_labeled)\n",
    "\n",
    "val_steps_balanced = min(len(val_covid) // BATCH_SIZE, len(val_normal) // BATCH_SIZE)"
   ]
  },
  {
   "cell_type": "markdown",
   "metadata": {},
   "source": [
    "# Step Counts"
   ]
  },
  {
   "cell_type": "code",
   "execution_count": 13,
   "metadata": {
    "execution": {
     "iopub.execute_input": "2025-04-08T17:57:11.120763Z",
     "iopub.status.busy": "2025-04-08T17:57:11.120475Z",
     "iopub.status.idle": "2025-04-08T17:57:11.133803Z",
     "shell.execute_reply": "2025-04-08T17:57:11.132942Z",
     "shell.execute_reply.started": "2025-04-08T17:57:11.120734Z"
    },
    "trusted": true
   },
   "outputs": [],
   "source": [
    "train_steps = 8000 // (BATCH_SIZE * 2)\n",
    "val_steps = 2000 // (BATCH_SIZE * 2)"
   ]
  },
  {
   "cell_type": "markdown",
   "metadata": {},
   "source": [
    "# Model Building"
   ]
  },
  {
   "cell_type": "code",
   "execution_count": 14,
   "metadata": {
    "execution": {
     "iopub.execute_input": "2025-04-08T17:57:11.134981Z",
     "iopub.status.busy": "2025-04-08T17:57:11.134687Z",
     "iopub.status.idle": "2025-04-08T17:57:14.025060Z",
     "shell.execute_reply": "2025-04-08T17:57:14.024201Z",
     "shell.execute_reply.started": "2025-04-08T17:57:11.134952Z"
    },
    "trusted": true
   },
   "outputs": [
    {
     "name": "stderr",
     "output_type": "stream",
     "text": [
      "/usr/local/lib/python3.10/dist-packages/keras/src/layers/convolutional/base_conv.py:107: UserWarning: Do not pass an `input_shape`/`input_dim` argument to a layer. When using Sequential models, prefer using an `Input(shape)` object as the first layer in the model instead.\n",
      "  super().__init__(activity_regularizer=activity_regularizer, **kwargs)\n"
     ]
    }
   ],
   "source": [
    "model = Sequential()\n",
    "\n",
    "model.add(Conv2D(32, (3, 3), padding='same', kernel_regularizer=l2(1e-4), input_shape=(150, 150, 3)))\n",
    "model.add(BatchNormalization())\n",
    "model.add(ReLU())\n",
    "model.add(MaxPooling2D(pool_size=(2, 2)))\n",
    "\n",
    "model.add(Conv2D(64, (3, 3), padding='same', kernel_regularizer=l2(1e-4)))\n",
    "model.add(BatchNormalization())\n",
    "model.add(ReLU())\n",
    "model.add(MaxPooling2D(pool_size=(2, 2)))\n",
    "\n",
    "model.add(Conv2D(128, (3, 3), padding='same', kernel_regularizer=l2(1e-4)))\n",
    "model.add(BatchNormalization())\n",
    "model.add(ReLU())\n",
    "model.add(MaxPooling2D(pool_size=(2, 2)))\n",
    "\n",
    "model.add(GlobalAveragePooling2D())\n",
    "\n",
    "model.add(Dense(128, kernel_regularizer=l2(1e-4)))\n",
    "model.add(BatchNormalization())\n",
    "model.add(ReLU())\n",
    "model.add(Dropout(0.5))\n",
    "\n",
    "model.add(Dense(1, activation='sigmoid'))"
   ]
  },
  {
   "cell_type": "code",
   "execution_count": 15,
   "metadata": {
    "execution": {
     "iopub.execute_input": "2025-04-08T17:57:14.026206Z",
     "iopub.status.busy": "2025-04-08T17:57:14.025935Z",
     "iopub.status.idle": "2025-04-08T17:57:14.037813Z",
     "shell.execute_reply": "2025-04-08T17:57:14.036977Z",
     "shell.execute_reply.started": "2025-04-08T17:57:14.026174Z"
    },
    "trusted": true
   },
   "outputs": [],
   "source": [
    "model.compile(optimizer=Adam(learning_rate=1e-4),\n",
    "loss='binary_crossentropy',\n",
    "metrics=['accuracy'])"
   ]
  },
  {
   "cell_type": "code",
   "execution_count": 16,
   "metadata": {
    "execution": {
     "iopub.execute_input": "2025-04-08T17:57:14.039132Z",
     "iopub.status.busy": "2025-04-08T17:57:14.038789Z",
     "iopub.status.idle": "2025-04-08T17:57:14.044623Z",
     "shell.execute_reply": "2025-04-08T17:57:14.044021Z",
     "shell.execute_reply.started": "2025-04-08T17:57:14.039102Z"
    },
    "trusted": true
   },
   "outputs": [],
   "source": [
    "early_stopping = EarlyStopping(patience=5, restore_best_weights=True, monitor='val_loss', verbose=1)\n",
    "\n",
    "lr_reduce = ReduceLROnPlateau(\n",
    "    monitor='val_loss', factor=0.5, patience=2, verbose=1, min_lr=1e-6\n",
    ")"
   ]
  },
  {
   "cell_type": "code",
   "execution_count": 17,
   "metadata": {
    "execution": {
     "iopub.execute_input": "2025-04-08T17:57:14.045865Z",
     "iopub.status.busy": "2025-04-08T17:57:14.045553Z",
     "iopub.status.idle": "2025-04-08T17:57:14.056820Z",
     "shell.execute_reply": "2025-04-08T17:57:14.056073Z",
     "shell.execute_reply.started": "2025-04-08T17:57:14.045834Z"
    },
    "trusted": true
   },
   "outputs": [],
   "source": [
    "callbacks = [early_stopping, lr_reduce]"
   ]
  },
  {
   "cell_type": "code",
   "execution_count": null,
   "metadata": {
    "execution": {
     "execution_failed": "2025-04-08T18:03:57.836Z",
     "iopub.execute_input": "2025-04-08T17:57:14.057973Z",
     "iopub.status.busy": "2025-04-08T17:57:14.057691Z"
    },
    "trusted": true
   },
   "outputs": [
    {
     "name": "stdout",
     "output_type": "stream",
     "text": [
      "Epoch 1/30\n",
      "\u001b[1m125/125\u001b[0m \u001b[32m━━━━━━━━━━━━━━━━━━━━\u001b[0m\u001b[37m\u001b[0m \u001b[1m0s\u001b[0m 802ms/step - accuracy: 0.6427 - loss: 0.7114"
     ]
    }
   ],
   "source": [
    "history = model.fit(\n",
    "    train_combined,\n",
    "    steps_per_epoch=train_steps,\n",
    "    epochs=EPOCHS,\n",
    "    validation_data=val_combined,\n",
    "    validation_steps=val_steps_balanced,\n",
    "    callbacks=callbacks\n",
    ")"
   ]
  },
  {
   "cell_type": "code",
   "execution_count": null,
   "metadata": {
    "execution": {
     "execution_failed": "2025-04-08T18:03:57.836Z"
    },
    "trusted": true
   },
   "outputs": [],
   "source": [
    "import matplotlib.pyplot as plt\n",
    "\n",
    "plt.figure(figsize=(12, 5))\n",
    "plt.subplot(1, 2, 1)\n",
    "plt.plot(history.history['accuracy'], label='Train Accuracy')\n",
    "plt.plot(history.history['val_accuracy'], label='Val Accuracy')\n",
    "plt.title('Accuracy over Epochs')\n",
    "plt.xlabel('Epoch')\n",
    "plt.ylabel('Accuracy')\n",
    "plt.legend()\n",
    "plt.grid(True)\n",
    "\n",
    "plt.subplot(1, 2, 2)\n",
    "plt.plot(history.history['loss'], label='Train Loss')\n",
    "plt.plot(history.history['val_loss'], label='Val Loss')\n",
    "plt.title('Loss over Epochs')\n",
    "plt.xlabel('Epoch')\n",
    "plt.ylabel('Loss')\n",
    "plt.legend()\n",
    "plt.grid(True)\n",
    "\n",
    "plt.tight_layout()\n",
    "plt.show()\n"
   ]
  },
  {
   "cell_type": "markdown",
   "metadata": {},
   "source": [
    "# Conclusion"
   ]
  },
  {
   "cell_type": "markdown",
   "metadata": {
    "execution": {
     "iopub.execute_input": "2025-04-08T18:19:15.523310Z",
     "iopub.status.busy": "2025-04-08T18:19:15.522967Z",
     "iopub.status.idle": "2025-04-08T18:19:15.529180Z",
     "shell.execute_reply": "2025-04-08T18:19:15.528117Z",
     "shell.execute_reply.started": "2025-04-08T18:19:15.523283Z"
    }
   },
   "source": [
    "***Achieved an accuracy of 87% on Train and Validation data, suggesting we are in a strong range for medical image classification, especially on a limited dataset.***"
   ]
  }
 ],
 "metadata": {
  "kaggle": {
   "accelerator": "nvidiaTeslaT4",
   "dataSources": [
    {
     "datasetId": 576013,
     "sourceId": 3324348,
     "sourceType": "datasetVersion"
    }
   ],
   "dockerImageVersionId": 30919,
   "isGpuEnabled": true,
   "isInternetEnabled": true,
   "language": "python",
   "sourceType": "notebook"
  },
  "kernelspec": {
   "display_name": "Python 3",
   "language": "python",
   "name": "python3"
  },
  "language_info": {
   "codemirror_mode": {
    "name": "ipython",
    "version": 3
   },
   "file_extension": ".py",
   "mimetype": "text/x-python",
   "name": "python",
   "nbconvert_exporter": "python",
   "pygments_lexer": "ipython3",
   "version": "3.10.12"
  }
 },
 "nbformat": 4,
 "nbformat_minor": 4
}
